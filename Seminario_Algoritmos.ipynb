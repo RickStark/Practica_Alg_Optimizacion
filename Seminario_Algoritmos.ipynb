{
  "nbformat": 4,
  "nbformat_minor": 0,
  "metadata": {
    "colab": {
      "provenance": []
    },
    "kernelspec": {
      "name": "python3",
      "display_name": "Python 3"
    }
  },
  "cells": [
    {
      "cell_type": "markdown",
      "metadata": {
        "id": "hVbXYX-RfPWh"
      },
      "source": [
        "# Algoritmos de optimización - Seminario<br>\n",
        "Nombre y Apellidos: Richard Jose Mendoza Medina  <br>\n",
        "Url: https://github.com/RickStark/Practica_Alg_Optimizacion/tree/main <br>\n",
        "Problema:\n",
        ">3. Combinar cifras y operaciones\n",
        "\n",
        "Descripción del problema:(copiar enunciado)\n",
        "\n",
        "El problema consiste en analizar el siguiente problema y diseñar un algoritmo que lo resuelva.\n",
        "• Disponemos de las 9 cifras del 1 al 9 (excluimos el cero) y de los 4 signos básicos de las\n",
        "operaciones fundamentales: suma(+), resta(-), multiplicación(*) y división(/)\n",
        "• Debemos combinarlos alternativamente sin repetir ninguno de ellos para obtener una cantidad dada\n",
        "\n",
        "(*) La respuesta es obligatoria\n",
        "\n",
        "\n",
        "\n",
        "\n",
        "\n",
        "                                        "
      ]
    },
    {
      "cell_type": "markdown",
      "metadata": {
        "id": "3_-exlrTgLd-"
      },
      "source": [
        "(*)¿Cuantas posibilidades hay sin tener en cuenta las restricciones?<br>\n",
        "\n",
        "\n",
        "\n",
        "¿Cuantas posibilidades hay teniendo en cuenta todas las restricciones.\n",
        "\n",
        "\n"
      ]
    },
    {
      "cell_type": "markdown",
      "metadata": {
        "id": "WfCUqJyKhPcw"
      },
      "source": [
        "Las posibilidades que se tiene sin tener en cuenta las restricciones es:\n",
        "\n",
        "5 dígitos (1 al 9 sin repetir): combinaciones = P(9,5) = 15,120\n",
        "\n",
        "4 operadores (sin repetir ): combinaciones P(4,4) = 24\n",
        "\n",
        "Total combinaciones (sin restricciones de resultado) : 15,120 × 24 = 362,880"
      ]
    },
    {
      "cell_type": "markdown",
      "source": [
        "Las posibilidades que se tiene en cuenta con las restricciones es 90000"
      ],
      "metadata": {
        "id": "D5P16AjXsodh"
      }
    },
    {
      "cell_type": "markdown",
      "source": [
        "- ¿Qué valor máximo y mínimo se pueden obtener según las condiciones del problema?\n",
        "\n",
        "  El valor minimo que se puede obtner es -69.0 y el maximo 77\n",
        "- ¿Es posible encontrar todos los valores enteros posibles entre dicho mínimo y máximo ?\n",
        "\n",
        "  Si es posible encontrar los valores enteros"
      ],
      "metadata": {
        "id": "kLFlLFHn8n-Z"
      }
    },
    {
      "cell_type": "code",
      "source": [],
      "metadata": {
        "id": "6_tlLE3zvSOb"
      },
      "execution_count": null,
      "outputs": []
    },
    {
      "cell_type": "code",
      "source": [
        "import itertools\n",
        "\n",
        "# Lista de dígitos disponibles (del 1 al 9 como strings)\n",
        "digitos_disponibles = [str(i) for i in range(1, 10)]\n",
        "\n",
        "# Lista de operadores disponibles\n",
        "operadores_disponibles = ['+', '-', '*', '/']\n",
        "\n",
        "# Generar todas las permutaciones posibles de 5 dígitos únicos\n",
        "permutaciones_digitos = itertools.permutations(digitos_disponibles, 5)\n",
        "\n",
        "# Generar todas las permutaciones posibles de los 4 operadores sin repetir\n",
        "permutaciones_operadores = list(itertools.permutations(operadores_disponibles, 4))\n",
        "\n",
        "# Contadores\n",
        "total_posibilidades = 0\n",
        "total_validas = 0\n",
        "\n",
        "# Variables para mínimo y máximo\n",
        "min_resultado = None\n",
        "max_resultado = None\n",
        "\n",
        "# Itera sobre todas las combinaciones de dígitos y operadores\n",
        "for digitos in permutaciones_digitos:\n",
        "    for operadores in permutaciones_operadores:\n",
        "        # Construir la expresión con formato: d1 op1 d2 op2 d3 op3 d4 op4 d5\n",
        "        expresion = ''.join(digitos[i] + operadores[i] for i in range(4)) + digitos[4]\n",
        "        total_posibilidades += 1\n",
        "        try:\n",
        "            # Evaluar la expresión y verificar si el resultado es entero\n",
        "            resultado = eval(expresion)\n",
        "            if resultado == int(resultado):\n",
        "                total_validas += 1\n",
        "                if min_resultado is None or resultado < min_resultado:\n",
        "                    min_resultado = resultado\n",
        "                if max_resultado is None or resultado > max_resultado:\n",
        "                    max_resultado = resultado\n",
        "        except ZeroDivisionError:\n",
        "            # Ignorar divisiones por cero\n",
        "            continue\n",
        "\n",
        "# Mostrar resultados\n",
        "print(\"Posibilidades sin restricción:\", total_posibilidades)\n",
        "print(\"Posibilidades con restricción (resultado entero):\", total_validas)\n",
        "print(\"Valor mínimo obtenido:\", min_resultado)\n",
        "print(\"Valor máximo obtenido:\", max_resultado)"
      ],
      "metadata": {
        "colab": {
          "base_uri": "https://localhost:8080/"
        },
        "id": "k4-ZLR-swlaE",
        "outputId": "b992a623-c189-4587-9686-ac2957ed6670"
      },
      "execution_count": null,
      "outputs": [
        {
          "output_type": "stream",
          "name": "stdout",
          "text": [
            "Posibilidades sin restricción: 362880\n",
            "Posibilidades con restricción (resultado entero): 90000\n",
            "Valor mínimo obtenido: -69.0\n",
            "Valor máximo obtenido: 77.0\n"
          ]
        }
      ]
    },
    {
      "cell_type": "markdown",
      "source": [],
      "metadata": {
        "id": "SpMfv7-moRzm"
      }
    },
    {
      "cell_type": "markdown",
      "metadata": {
        "id": "dzynfVJahHoY"
      },
      "source": [
        "Modelo para el espacio de soluciones<br>\n",
        "(*) ¿Cual es la estructura de datos que mejor se adapta al problema? Argumentalo.(Es posible que hayas elegido una al principio y veas la necesidad de cambiar, arguentalo)\n"
      ]
    },
    {
      "cell_type": "markdown",
      "metadata": {
        "id": "xFIJrOwKi2Ti"
      },
      "source": [
        "La estructura de datos más adecuada para este problema es la lista, ya que permite almacenar y manipular de forma eficiente tanto los dígitos como los operadores. Las listas facilitan la generación de permutaciones mediante herramientas como itertools.permutations, y se integran naturalmente con estructuras de control como los bucles for, que son ideales para recorrer y combinar los elementos en las expresiones requeridas."
      ]
    },
    {
      "cell_type": "markdown",
      "metadata": {
        "id": "7Z9U2W7bi-XS"
      },
      "source": [
        "Según el modelo para el espacio de soluciones<br>\n",
        "(*)¿Cual es la función objetivo?\n",
        "\n",
        "(*)¿Es un problema de maximización o minimización?"
      ]
    },
    {
      "cell_type": "markdown",
      "metadata": {
        "id": "hBalWLM7j1_d"
      },
      "source": [
        "La funcion objetivo minimizar el número de expresiones válidas construidas a partir de 5 dígitos únicos del 1 al 9 y los 4 operadores básicos sin repetir, tales que el resultado de la expresión sea un número entero.\n",
        "\n",
        "Funcion objetivo : min(T(n)=c⋅n)\n",
        "\n",
        "n : total de combinaciones para este caso 362880\n",
        "\n",
        "c : es el coste constante de eval() (u otro evaluador)\n",
        "\n",
        "T(n) :  es el tiempo total del algoritmo\n",
        "\n",
        "Es un problema de optimización por minimización, en el que se busca reducir al mínimo el número de combinaciones de dígitos y operadores que deben ser evaluadas para obtener una expresión válida que produzca un valor entero específico, cumpliendo con todas las restricciones impuestas.\n"
      ]
    },
    {
      "cell_type": "markdown",
      "metadata": {
        "id": "rlnTYgY1j6I2"
      },
      "source": [
        "Diseña un algoritmo para resolver el problema por fuerza bruta"
      ]
    },
    {
      "cell_type": "markdown",
      "metadata": {
        "id": "70rDgxYXkC8r"
      },
      "source": [
        "Respuesta"
      ]
    },
    {
      "cell_type": "code",
      "source": [
        "import itertools\n",
        "\n",
        "def buscar_primera_combinacion_valida(valor_objetivo):\n",
        "    # Lista de dígitos disponibles (del 1 al 9 como strings)\n",
        "    digitos_disponibles = [str(i) for i in range(1, 10)]\n",
        "\n",
        "    # Lista de operadores disponibles\n",
        "    operadores_disponibles = ['+', '-', '*', '/']\n",
        "\n",
        "    # Generar todas las permutaciones posibles de 5 dígitos únicos\n",
        "    permutaciones_digitos = itertools.permutations(digitos_disponibles, 5)\n",
        "\n",
        "    # Generar todas las permutaciones posibles de los 4 operadores sin repetir\n",
        "    permutaciones_operadores = list(itertools.permutations(operadores_disponibles, 4))\n",
        "\n",
        "    total_posibilidades = 0  # variable par contabilizar las combinaciones evaluadas\n",
        "\n",
        "    # Iterar sobre todas las combinaciones\n",
        "    for digitos in permutaciones_digitos:\n",
        "        for operadores in permutaciones_operadores:\n",
        "            total_posibilidades += 1\n",
        "            expresion = ''.join(digitos[i] + operadores[i] for i in range(4)) + digitos[4]\n",
        "            try:\n",
        "                resultado = eval(expresion)\n",
        "                # Se valida que el resultado es entero y es el valor buscado\n",
        "                if resultado == int(resultado) and int(resultado) == valor_objetivo:\n",
        "                    # Imprime la primera expresion valida y la cantidad de combinacion evaluadas\n",
        "                    print(f\"Primera expresión válida encontrada: {expresion} = {int(resultado)}\")\n",
        "                    print(f\"Total de combinaciones evaluadas: {total_posibilidades}\")\n",
        "                    return expresion\n",
        "            except ZeroDivisionError:\n",
        "                continue\n",
        "\n",
        "    print(\"No se encontró ninguna expresión válida.\")\n",
        "    print(f\"Total de combinaciones evaluadas: {total_posibilidades}\")\n",
        "    return None\n",
        "\n",
        "# Ejemplo de uso:\n",
        "primera_valida = buscar_primera_combinacion_valida(70)\n"
      ],
      "metadata": {
        "colab": {
          "base_uri": "https://localhost:8080/"
        },
        "id": "Z1UlrYgde0q-",
        "outputId": "cbc7b1b6-c266-4924-f873-1d2f241161cc"
      },
      "execution_count": null,
      "outputs": [
        {
          "output_type": "stream",
          "name": "stdout",
          "text": [
            "Primera expresión válida encontrada: 1-6/2+8*9 = 70\n",
            "Total de combinaciones evaluadas: 20747\n"
          ]
        }
      ]
    },
    {
      "cell_type": "markdown",
      "metadata": {
        "id": "tgrnsC2nkFa8"
      },
      "source": [
        "Calcula la complejidad del algoritmo por fuerza bruta"
      ]
    },
    {
      "cell_type": "markdown",
      "metadata": {
        "id": "9eUd3xwckP68"
      },
      "source": [
        "Para obtener la complejidad del algoritmo por fuerza bruta primero se tiene que calcular las conbinaciones posibles para este caso ya fue calculada y es 362,880\n",
        "\n",
        "La evaluación mediante eval() tiene un costo constante para expresiones de esta dimensión.\n",
        "\n",
        "Por lo tanto, la complejidad temporal total del algoritmo es lineal con respecto al número de combinaciones:\n",
        "\n",
        "O(n) donde n=362,880"
      ]
    },
    {
      "cell_type": "markdown",
      "metadata": {
        "id": "txbrmLmskReM"
      },
      "source": [
        "(*)Diseña un algoritmo que mejore la complejidad del algortimo por fuerza bruta. Argumenta porque crees que mejora el algoritmo por fuerza bruta"
      ]
    },
    {
      "cell_type": "markdown",
      "metadata": {
        "id": "hLrVwt5QkZPD"
      },
      "source": [
        "El algoritmo que mejora la complejidad es el algoritmo de poda porque lo que va ser es evaluar parcialmente y identificar operacion invalida de manera pronta lo que evita miles de cálculos innecesarios."
      ]
    },
    {
      "cell_type": "code",
      "metadata": {
        "id": "m1eyM21Vkabg",
        "colab": {
          "base_uri": "https://localhost:8080/"
        },
        "outputId": "42dc5383-55ae-45ff-bbc4-aa9bb29233bb"
      },
      "source": [
        "import itertools\n",
        "\n",
        "def evaluar_paso_a_paso(digitos, operadores):\n",
        "    \"\"\"\n",
        "    Evalúa una expresión paso a paso, aplicando cada operación de izquierda a derecha.\n",
        "    Si alguna operación intermedia da como resultado un valor no entero\n",
        "    o produce una división por cero, se descarta la expresión (poda temprana).\n",
        "    \"\"\"\n",
        "    try:\n",
        "        resultado = int(digitos[0])\n",
        "    except ValueError:\n",
        "        return False\n",
        "\n",
        "    for i in range(4):\n",
        "        operando = int(digitos[i + 1])\n",
        "        operador = operadores[i]\n",
        "\n",
        "        try:\n",
        "            if operador == '+':\n",
        "                resultado += operando\n",
        "            elif operador == '-':\n",
        "                resultado -= operando\n",
        "            elif operador == '*':\n",
        "                resultado *= operando\n",
        "            elif operador == '/':\n",
        "                if operando == 0 or resultado % operando != 0:\n",
        "                    return False  # División inválida: por cero o no entera\n",
        "                resultado //= operando\n",
        "        except Exception:\n",
        "            return False\n",
        "\n",
        "    return True  # La expresión completa es válida y termina en entero\n",
        "\n",
        "def contar_expresiones_validas_con_poda():\n",
        "    \"\"\"\n",
        "    Genera todas las combinaciones posibles de 5 dígitos únicos (1–9) y\n",
        "    4 operadores básicos (+ - * /), y cuenta cuántas expresiones son válidas\n",
        "    bajo evaluación secuencial con poda temprana.\n",
        "    \"\"\"\n",
        "    digitos_disponibles = [str(i) for i in range(1, 10)]\n",
        "    operadores_disponibles = ['+', '-', '*', '/']\n",
        "\n",
        "    total = 0\n",
        "    total_validas = 0\n",
        "\n",
        "    permutaciones_digitos = itertools.permutations(digitos_disponibles, 5)\n",
        "    permutaciones_operadores = list(itertools.permutations(operadores_disponibles, 4))\n",
        "\n",
        "    for digitos in permutaciones_digitos:\n",
        "        for operadores in permutaciones_operadores:\n",
        "            total += 1\n",
        "            if evaluar_paso_a_paso(digitos, operadores):\n",
        "                total_validas += 1\n",
        "\n",
        "    print(\"Total de combinaciones evaluadas:\", total)\n",
        "    print(\"Total de expresiones válidas (enteras):\", total_validas)\n",
        "\n",
        "# Ejecutar\n",
        "contar_expresiones_validas_con_poda()"
      ],
      "execution_count": null,
      "outputs": [
        {
          "output_type": "stream",
          "name": "stdout",
          "text": [
            "Total de combinaciones evaluadas: 362880\n",
            "Total de expresiones válidas (enteras): 106699\n"
          ]
        }
      ]
    },
    {
      "cell_type": "code",
      "source": [
        "import operator\n",
        "from itertools import permutations\n",
        "import itertools\n",
        "\n",
        "def calcular_rango_min_max():\n",
        "    \"\"\"\n",
        "    Calcula el valor mínimo y máximo enteros alcanzables con todas las expresiones\n",
        "    formadas por 5 dígitos únicos (1-9) y 4 operadores únicos (+, -, *, /).\n",
        "    \"\"\"\n",
        "    digitos_disponibles = [str(i) for i in range(1, 10)]\n",
        "    operadores_disponibles = ['+', '-', '*', '/']\n",
        "\n",
        "    minimo = float('inf')\n",
        "    maximo = float('-inf')\n",
        "\n",
        "    for dig_permutacion in itertools.permutations(digitos_disponibles, 5):\n",
        "        for op_permutacion in itertools.permutations(operadores_disponibles, 4):\n",
        "            expresion = ''.join(\n",
        "                dig_permutacion[i] + op_permutacion[i]\n",
        "                for i in range(4)\n",
        "            ) + dig_permutacion[4]\n",
        "            try:\n",
        "                resultado = eval(expresion)\n",
        "                if resultado == int(resultado):\n",
        "                    entero = int(resultado)\n",
        "                    minimo = min(minimo, entero)\n",
        "                    maximo = max(maximo, entero)\n",
        "            except ZeroDivisionError:\n",
        "                continue\n",
        "\n",
        "    return minimo, maximo\n",
        "\n",
        "RANGO_MIN, RANGO_MAX = calcular_rango_min_max()\n",
        "\n",
        "def buscar_primera_combinacion_valida_dfs(valor_objetivo):\n",
        "    \"\"\"\n",
        "    Busca la primera combinación válida de 5 dígitos (del 1 al 9) y 4 operadores (+, -, *, /)\n",
        "    que resulte en el valor objetivo. La expresión debe alternar dígitos y operadores.\n",
        "    Utiliza un enfoque de búsqueda en profundidad (DFS).\n",
        "\n",
        "    Args:\n",
        "        valor_objetivo (int): El valor entero que se busca como resultado de la expresión.\n",
        "\n",
        "    Returns:\n",
        "        str or None: La primera expresión válida encontrada como una cadena, o None si no se encuentra ninguna.\n",
        "    \"\"\"\n",
        "    VALOR_MINIMO_ESTIMADO=-67\n",
        "    VALOR_MAXIMO_ESTIMADO=77\n",
        "    def esta_dentro_de_rango(valor_objetivo, minimo, maximo):\n",
        "      return minimo <= valor_objetivo <= maximo\n",
        "    if not esta_dentro_de_rango(valor_objetivo, RANGO_MIN, RANGO_MAX):\n",
        "      print(f\"El valor objetivo {valor_objetivo} está fuera del rango estimado [{VALOR_MINIMO_ESTIMADO}, {VALOR_MAXIMO_ESTIMADO}].\")\n",
        "      return None\n",
        "    digitos_base = [str(i) for i in range(1, 10)]\n",
        "    operadores_base = ['+', '-', '*', '/']\n",
        "    total_combinaciones_evaluadas = 0\n",
        "\n",
        "    # Cache para operadores para evitar redefiniciones\n",
        "    operadores_map = {\n",
        "        '+': operator.add,\n",
        "        '-': operator.sub,\n",
        "        '*': operator.mul,\n",
        "        '/': operator.truediv\n",
        "    }\n",
        "\n",
        "    def dfs(digitos_restantes, operadores_restantes, expresion_actual, valor_actual):\n",
        "        nonlocal total_combinaciones_evaluadas\n",
        "        total_combinaciones_evaluadas += 1\n",
        "\n",
        "        # Si ya hemos construido una expresión completa (5 dígitos y 4 operadores)\n",
        "        if len(expresion_actual) == 9:\n",
        "            try:\n",
        "                # Usamos eval() con precaución, ya que la expresión está controlada\n",
        "                resultado = eval(expresion_actual)\n",
        "                # Verificamos que sea un entero y coincida con el valor objetivo\n",
        "                if resultado == int(valor_objetivo):\n",
        "                    print(f\"Primera expresión válida encontrada: {expresion_actual} = {int(resultado)}\")\n",
        "                    print(f\"Total de combinaciones evaluadas: {total_combinaciones_evaluadas}\")\n",
        "                    return expresion_actual\n",
        "            except ZeroDivisionError:\n",
        "                pass  # Ignorar divisiones por cero\n",
        "            except SyntaxError:\n",
        "                pass # Ignorar expresiones mal formadas (aunque el DFS debería prevenirlas)\n",
        "            return None\n",
        "\n",
        "        # Si la última parte de la expresión es un dígito, el siguiente debe ser un operador\n",
        "        if not expresion_actual or expresion_actual[-1].isdigit():\n",
        "            if not operadores_restantes:\n",
        "                return None # No hay operadores disponibles para continuar\n",
        "            for i, op in enumerate(operadores_restantes):\n",
        "                nueva_operadores_restantes = operadores_restantes[:i] + operadores_restantes[i+1:]\n",
        "                resultado = dfs(digitos_restantes, nueva_operadores_restantes, expresion_actual + op, valor_actual)\n",
        "                if resultado:\n",
        "                    return resultado\n",
        "        # Si la última parte de la expresión es un operador, el siguiente debe ser un dígito\n",
        "        else: # expresion_actual[-1] in operadores_base\n",
        "            if not digitos_restantes:\n",
        "                return None # No hay dígitos disponibles para continuar\n",
        "            for i, digito in enumerate(digitos_restantes):\n",
        "                nueva_digitos_restantes = digitos_restantes[:i] + digitos_restantes[i+1:]\n",
        "                resultado = dfs(nueva_digitos_restantes, operadores_restantes, expresion_actual + digito, valor_actual)\n",
        "                if resultado:\n",
        "                    return resultado\n",
        "        return None\n",
        "\n",
        "    # Iterar sobre todas las permutaciones de 5 dígitos y 4 operadores\n",
        "    # Para cada combinación, iniciar una nueva búsqueda DFS\n",
        "    for digitos_perm in permutations(digitos_base, 5):\n",
        "        for operadores_perm in permutations(operadores_base, 4):\n",
        "            # Iniciar el DFS con el primer dígito de la permutación\n",
        "            # Los dígitos y operadores restantes se manejan dentro del DFS\n",
        "\n",
        "            resultado = dfs(list(digitos_perm[1:]), list(operadores_perm), digitos_perm[0], 0)\n",
        "            if resultado:\n",
        "                return resultado\n",
        "\n",
        "    print(\"No se encontró ninguna expresión válida.\")\n",
        "    print(f\"Total de combinaciones evaluadas: {total_combinaciones_evaluadas}\")\n",
        "    return None\n",
        "\n",
        "# Ejemplo de uso\n",
        "print(\"\\n--- Buscando combinación para el valor ---\")\n",
        "primera_valida_1 = buscar_primera_combinacion_valida_dfs(10)\n"
      ],
      "metadata": {
        "colab": {
          "base_uri": "https://localhost:8080/"
        },
        "id": "u6K3aUGljUQV",
        "outputId": "86db4876-3479-46c8-af45-5fcab0f40a9c"
      },
      "execution_count": 16,
      "outputs": [
        {
          "output_type": "stream",
          "name": "stdout",
          "text": [
            "\n",
            "--- Buscando combinación para el valor ---\n",
            "Primera expresión válida encontrada: 1+3*4-6/2 = 10\n",
            "Total de combinaciones evaluadas: 53708\n"
          ]
        }
      ]
    },
    {
      "cell_type": "code",
      "source": [],
      "metadata": {
        "id": "9lbi8MJ9ruUB"
      },
      "execution_count": null,
      "outputs": []
    },
    {
      "cell_type": "code",
      "source": [
        "import operator\n",
        "from itertools import permutations\n",
        "import itertools\n",
        " # Se realiza una ves el calculo y luego se toma para que el rango para hacer del valor objetivo esta dentro del rango\n",
        "def calcular_rango_min_max():\n",
        "    \"\"\"\n",
        "    Calcula el valor mínimo y máximo enteros alcanzables con todas las expresiones\n",
        "    formadas por 5 dígitos únicos (1-9) y 4 operadores únicos (+, -, *, /).\n",
        "    \"\"\"\n",
        "    digitos_disponibles = [str(i) for i in range(1, 10)]\n",
        "    operadores_disponibles = ['+', '-', '*', '/']\n",
        "\n",
        "    minimo = float('inf')\n",
        "    maximo = float('-inf')\n",
        "\n",
        "    for dig_permutacion in itertools.permutations(digitos_disponibles, 5):\n",
        "        for op_permutacion in itertools.permutations(operadores_disponibles, 4):\n",
        "            expresion = ''.join(\n",
        "                dig_permutacion[i] + op_permutacion[i]\n",
        "                for i in range(4)\n",
        "            ) + dig_permutacion[4]\n",
        "            try:\n",
        "                resultado = eval(expresion)\n",
        "                if resultado == int(resultado):\n",
        "                    entero = int(resultado)\n",
        "                    minimo = min(minimo, entero)\n",
        "                    maximo = max(maximo, entero)\n",
        "            except ZeroDivisionError:\n",
        "                continue\n",
        "\n",
        "    return minimo, maximo\n",
        "\n",
        "RANGO_MIN, RANGO_MAX = calcular_rango_min_max()\n",
        "\n",
        "def evaluar_paso_a_paso(digitos, operadores):\n",
        "    \"\"\"\n",
        "    Evalúa una expresión paso a paso, aplicando cada operación de izquierda a derecha.\n",
        "    Si alguna operación intermedia da como resultado un valor no entero\n",
        "    o produce una división por cero, se descarta la expresión (poda temprana).\n",
        "    \"\"\"\n",
        "    try:\n",
        "        resultado = int(digitos[0])\n",
        "    except ValueError:\n",
        "        return False\n",
        "\n",
        "    for i in range(4):\n",
        "        operando = int(digitos[i + 1])\n",
        "        operador = operadores[i]\n",
        "\n",
        "        try:\n",
        "            if operador == '+':\n",
        "                resultado += operando\n",
        "            elif operador == '-':\n",
        "                resultado -= operando\n",
        "            elif operador == '*':\n",
        "                resultado *= operando\n",
        "            elif operador == '/':\n",
        "                if operando == 0 or resultado % operando != 0:\n",
        "                    return False  # División inválida: por cero o no entera\n",
        "                resultado //= operando\n",
        "        except Exception:\n",
        "            return False\n",
        "\n",
        "    return True  # La expresión completa es válida y termina en entero\n",
        "\n",
        "def buscar_primera_combinacion_valida_dfs(valor_objetivo):\n",
        "    \"\"\"\n",
        "    Busca la primera combinación válida de 5 dígitos (del 1 al 9) y 4 operadores (+, -, *, /)\n",
        "    que resulte en el valor objetivo. La expresión debe alternar dígitos y operadores.\n",
        "    Utiliza un enfoque de búsqueda en profundidad (DFS).\n",
        "\n",
        "    Args:\n",
        "        valor_objetivo (int): El valor entero que se busca como resultado de la expresión.\n",
        "\n",
        "    Returns:\n",
        "        str or None: La primera expresión válida encontrada como una cadena, o None si no se encuentra ninguna.\n",
        "    \"\"\"\n",
        "\n",
        "    def esta_dentro_de_rango(valor_objetivo, minimo, maximo):\n",
        "      return minimo <= valor_objetivo <= maximo\n",
        "    if not esta_dentro_de_rango(valor_objetivo, RANGO_MIN, RANGO_MAX):\n",
        "      print(f\"El valor objetivo {valor_objetivo} está fuera del rango estimado [{RANGO_MIN}, {RANGO_MAX}].\")\n",
        "      return None\n",
        "    digitos_base = [str(i) for i in range(1, 10)]\n",
        "    operadores_base = ['+', '-', '*', '/']\n",
        "    total_combinaciones_evaluadas = 0\n",
        "\n",
        "    # Cache para operadores para evitar redefiniciones\n",
        "    operadores_map = {\n",
        "        '+': operator.add,\n",
        "        '-': operator.sub,\n",
        "        '*': operator.mul,\n",
        "        '/': operator.truediv\n",
        "    }\n",
        "\n",
        "    def dfs(digitos_restantes, operadores_restantes, expresion_actual, valor_actual):\n",
        "        nonlocal total_combinaciones_evaluadas\n",
        "        total_combinaciones_evaluadas += 1\n",
        "\n",
        "        # Si ya hemos construido una expresión completa (5 dígitos y 4 operadores)\n",
        "        if len(expresion_actual) == 9:\n",
        "            try:\n",
        "                # Usamos eval() con precaución, ya que la expresión está controlada\n",
        "                resultado = eval(expresion_actual)\n",
        "                # Verificamos que sea un entero y coincida con el valor objetivo\n",
        "                if resultado == int(valor_objetivo):\n",
        "                    print(f\"Primera expresión válida encontrada: {expresion_actual} = {int(resultado)}\")\n",
        "                    print(f\"Total de combinaciones evaluadas: {total_combinaciones_evaluadas}\")\n",
        "                    return expresion_actual\n",
        "            except ZeroDivisionError:\n",
        "                pass  # Ignorar divisiones por cero\n",
        "            except SyntaxError:\n",
        "                pass # Ignorar expresiones mal formadas (aunque el DFS debería prevenirlas)\n",
        "            return None\n",
        "\n",
        "        # Si la última parte de la expresión es un dígito, el siguiente debe ser un operador\n",
        "        if not expresion_actual or expresion_actual[-1].isdigit():\n",
        "            if not operadores_restantes:\n",
        "                return None # No hay operadores disponibles para continuar\n",
        "            for i, op in enumerate(operadores_restantes):\n",
        "                nueva_operadores_restantes = operadores_restantes[:i] + operadores_restantes[i+1:]\n",
        "                resultado = dfs(digitos_restantes, nueva_operadores_restantes, expresion_actual + op, valor_actual)\n",
        "                if resultado:\n",
        "                    return resultado\n",
        "        # Si la última parte de la expresión es un operador, el siguiente debe ser un dígito\n",
        "        else: # expresion_actual[-1] in operadores_base\n",
        "            if not digitos_restantes:\n",
        "                return None # No hay dígitos disponibles para continuar\n",
        "            for i, digito in enumerate(digitos_restantes):\n",
        "                nueva_digitos_restantes = digitos_restantes[:i] + digitos_restantes[i+1:]\n",
        "                resultado = dfs(nueva_digitos_restantes, operadores_restantes, expresion_actual + digito, valor_actual)\n",
        "                if resultado:\n",
        "                    return resultado\n",
        "        return None\n",
        "\n",
        "    # Iterar sobre todas las permutaciones de 5 dígitos y 4 operadores\n",
        "    # Para cada combinación, iniciar una nueva búsqueda DFS\n",
        "    for digitos_perm in permutations(digitos_base, 5):\n",
        "        for operadores_perm in permutations(operadores_base, 4):\n",
        "            # Iniciar el DFS con el primer dígito de la permutación\n",
        "            # Los dígitos y operadores restantes se manejan dentro del DFS\n",
        "            poda_temprana=0\n",
        "            if evaluar_paso_a_paso(digitos_perm, operadores_perm):\n",
        "              resultado = dfs(list(digitos_perm[1:]), list(operadores_perm), digitos_perm[0], 0)\n",
        "\n",
        "\n",
        "            if resultado:\n",
        "                  return resultado\n",
        "\n",
        "    print(\"No se encontró ninguna expresión válida.\")\n",
        "    print(f\"Total de combinaciones evaluadas: {total_combinaciones_evaluadas}\")\n",
        "    return None\n",
        "\n",
        "# Ejemplo de uso\n",
        "print(\"\\n--- Buscando combinación para el valor ---\")\n",
        "primera_valida_1 = buscar_primera_combinacion_valida_dfs(90)\n"
      ],
      "metadata": {
        "colab": {
          "base_uri": "https://localhost:8080/"
        },
        "id": "psiTMx-aruLX",
        "outputId": "cef9f332-8785-4852-c5bd-6f015828b95c"
      },
      "execution_count": 49,
      "outputs": [
        {
          "output_type": "stream",
          "name": "stdout",
          "text": [
            "\n",
            "--- Buscando combinación para el valor ---\n",
            "El valor objetivo 90 está fuera del rango estimado [-69, 77].\n"
          ]
        }
      ]
    },
    {
      "cell_type": "markdown",
      "metadata": {
        "id": "eGDB4K6uk1iN"
      },
      "source": [
        "(*)Calcula la complejidad del algoritmo"
      ]
    },
    {
      "cell_type": "markdown",
      "metadata": {
        "id": "NhpTh_BPk1ms"
      },
      "source": [
        "### Complejidad del algoritmo DFS con Poda temprana\n",
        "\n",
        "- Complejidad :\n",
        "\n",
        "  Peor de los casos --> O(N)\n",
        "\n",
        "  Mejor de los casos --> O(k)  k<=N\n",
        "\n",
        "- Con la poda temprana externa filtra la mayoria de combinacion inviables , con la rango valido  se evita  calcular valores que esta fuera de este y con esto evita cálculos innecesarios y reduce significativamente el costo computacional."
      ]
    },
    {
      "cell_type": "markdown",
      "metadata": {
        "id": "3M6QjTsSkmYe"
      },
      "source": [
        "Según el problema (y tenga sentido), diseña un juego de datos de entrada aleatorios"
      ]
    },
    {
      "cell_type": "markdown",
      "metadata": {
        "id": "Jc3_OlyNkvjZ"
      },
      "source": [
        "Respuesta"
      ]
    },
    {
      "cell_type": "code",
      "source": [
        "import random\n",
        "\n",
        "def generar_valores_objetivo_aleatorios(n_muestras, rango_min, rango_max):\n",
        "    return random.sample(range(rango_min, rango_max + 1), n_muestras)"
      ],
      "metadata": {
        "id": "iXJJVuKXOOLC"
      },
      "execution_count": 54,
      "outputs": []
    },
    {
      "cell_type": "code",
      "source": [
        "# Supongamos que ya tienes RANGO_MIN y RANGO_MAX definidos\n",
        "valores_objetivo = generar_valores_objetivo_aleatorios(20, RANGO_MIN, RANGO_MAX)\n",
        "\n",
        "for valor in valores_objetivo:\n",
        "    print(f\"\\nProbando con valor objetivo: {valor}\")\n",
        "    buscar_primera_combinacion_valida_dfs(valor)"
      ],
      "metadata": {
        "id": "7oY4fM0rO_pB",
        "outputId": "786f80b6-0179-4e3a-900c-fa60165aa555",
        "colab": {
          "base_uri": "https://localhost:8080/"
        }
      },
      "execution_count": null,
      "outputs": [
        {
          "output_type": "stream",
          "name": "stdout",
          "text": [
            "\n",
            "Probando con valor objetivo: 58\n"
          ]
        }
      ]
    },
    {
      "cell_type": "code",
      "source": [
        "import itertools\n",
        "import random\n",
        "\n",
        "def generar_valores_objetivo(n_muestras=100):\n",
        "    digitos_disponibles = [str(i) for i in range(1, 10)]\n",
        "    operadores_disponibles = ['+', '-', '*', '/']\n",
        "    muestras = set()\n",
        "\n",
        "    while len(muestras) < n_muestras:\n",
        "        # Selección aleatoria y sin repetición\n",
        "        digitos = random.sample(digitos_disponibles, 5)\n",
        "        operadores = random.sample(operadores_disponibles, 4)\n",
        "\n",
        "        # Construir la expresión\n",
        "        expresion = ''.join(digitos[i] + operadores[i] for i in range(4)) + digitos[4]\n",
        "\n",
        "        try:\n",
        "            resultado = eval(expresion)\n",
        "            if resultado == int(resultado):\n",
        "                muestras.add(int(resultado))\n",
        "        except ZeroDivisionError:\n",
        "            continue\n",
        "        except Exception:\n",
        "            continue\n",
        "\n",
        "    return list(muestras)\n"
      ],
      "metadata": {
        "id": "fAZLa0qjNrkw"
      },
      "execution_count": 50,
      "outputs": []
    },
    {
      "cell_type": "code",
      "source": [
        "valores_objetivo = generar_valores_objetivo(20)\n",
        "\n",
        "for valor in valores_objetivo:\n",
        "    print(f\"\\nProbando con valor objetivo: {valor}\")\n",
        "    buscar_primera_combinacion_valida_dfs(valor)"
      ],
      "metadata": {
        "id": "0hbMQzbCNu8u",
        "outputId": "e835b8cb-2451-46b5-84ce-e5d9cb2b82d0",
        "colab": {
          "base_uri": "https://localhost:8080/"
        }
      },
      "execution_count": 51,
      "outputs": [
        {
          "output_type": "stream",
          "name": "stdout",
          "text": [
            "\n",
            "Probando con valor objetivo: 0\n",
            "Primera expresión válida encontrada: 1+5-3*4/2 = 0\n",
            "Total de combinaciones evaluadas: 444\n",
            "\n",
            "Probando con valor objetivo: 3\n",
            "Primera expresión válida encontrada: 1+3-2*4/8 = 3\n",
            "Total de combinaciones evaluadas: 29125\n",
            "\n",
            "Probando con valor objetivo: 6\n",
            "Primera expresión válida encontrada: 1*3+5-4/2 = 6\n",
            "Total de combinaciones evaluadas: 1295\n",
            "\n",
            "Probando con valor objetivo: 7\n",
            "Primera expresión válida encontrada: 1+2*4-6/3 = 7\n",
            "Total de combinaciones evaluadas: 11218\n",
            "\n",
            "Probando con valor objetivo: 9\n",
            "Primera expresión válida encontrada: 1+3*4-8/2 = 9\n",
            "Total de combinaciones evaluadas: 29189\n",
            "\n",
            "Probando con valor objetivo: 10\n",
            "Primera expresión válida encontrada: 1+3*4-6/2 = 10\n",
            "Total de combinaciones evaluadas: 11357\n",
            "\n",
            "Probando con valor objetivo: 11\n",
            "Primera expresión válida encontrada: 1+4*9/3-2 = 11\n",
            "Total de combinaciones evaluadas: 40495\n",
            "\n",
            "Probando con valor objetivo: 13\n",
            "Primera expresión válida encontrada: 1+3*5-6/2 = 13\n",
            "Total de combinaciones evaluadas: 67082\n",
            "\n",
            "Probando con valor objetivo: 14\n",
            "Primera expresión válida encontrada: 1+3*5-4/2 = 14\n",
            "Total de combinaciones evaluadas: 227\n",
            "\n",
            "Probando con valor objetivo: 16\n",
            "Primera expresión válida encontrada: 1+4*9/2-3 = 16\n",
            "Total de combinaciones evaluadas: 40492\n",
            "\n",
            "Probando con valor objetivo: 17\n",
            "Primera expresión válida encontrada: 1+3*6-4/2 = 17\n",
            "Total de combinaciones evaluadas: 11372\n",
            "\n",
            "Probando con valor objetivo: 20\n",
            "Primera expresión válida encontrada: 1+3*7-4/2 = 20\n",
            "Total de combinaciones evaluadas: 20288\n",
            "\n",
            "Probando con valor objetivo: 21\n",
            "Primera expresión válida encontrada: 1+4*6-8/2 = 21\n",
            "Total de combinaciones evaluadas: 419225\n",
            "\n",
            "Probando con valor objetivo: 43\n",
            "Primera expresión válida encontrada: 1+5*9-6/2 = 43\n",
            "Total de combinaciones evaluadas: 546286\n",
            "\n",
            "Probando con valor objetivo: 44\n",
            "Primera expresión válida encontrada: 1-4/2+9*5 = 44\n",
            "Total de combinaciones evaluadas: 461650\n",
            "\n",
            "Probando con valor objetivo: 61\n",
            "Primera expresión válida encontrada: 1+9*7-6/2 = 61\n",
            "Total de combinaciones evaluadas: 771561\n",
            "\n",
            "Probando con valor objetivo: -24\n",
            "Primera expresión válida encontrada: 1+4/2-3*9 = -24\n",
            "Total de combinaciones evaluadas: 40501\n",
            "\n",
            "Probando con valor objetivo: -14\n",
            "Primera expresión válida encontrada: 1+3-4*9/2 = -14\n",
            "Total de combinaciones evaluadas: 40288\n",
            "\n",
            "Probando con valor objetivo: -12\n",
            "Primera expresión válida encontrada: 1+4/2-3*5 = -12\n",
            "Total de combinaciones evaluadas: 379\n",
            "\n",
            "Probando con valor objetivo: -9\n",
            "Primera expresión válida encontrada: 1+2-4*9/3 = -9\n",
            "Total de combinaciones evaluadas: 40149\n"
          ]
        }
      ]
    },
    {
      "cell_type": "markdown",
      "metadata": {
        "id": "zy5ZROmjlGo1"
      },
      "source": [
        "Aplica el algoritmo al juego de datos generado"
      ]
    },
    {
      "cell_type": "markdown",
      "metadata": {
        "id": "_Cmj-PVylMsa"
      },
      "source": [
        "Respuesta"
      ]
    },
    {
      "cell_type": "code",
      "metadata": {
        "id": "Jkx8GeiYlUz1"
      },
      "source": [
        "def evaluar_expresion_manual(digitos_list, operadores_list):\n",
        "    \"\"\"\n",
        "    Evalúa múltiples expresiones a partir de listas de dígitos y operadores.\n",
        "    Cada elemento de las listas debe ser una tupla:\n",
        "    - digitos_list: lista de tuplas de 5 enteros\n",
        "    - operadores_list: lista de tuplas de 4 strings\n",
        "    \"\"\"\n",
        "\n",
        "    total = 0\n",
        "    total_validas = 0\n",
        "\n",
        "    for digitos in digitos_list:\n",
        "        for operadores in operadores_list:\n",
        "            resultado = digitos[0]\n",
        "            es_valida = True\n",
        "\n",
        "            for i in range(4):\n",
        "                op = operadores[i]\n",
        "                val = digitos[i + 1]\n",
        "\n",
        "                if op == '+':\n",
        "                    resultado += val\n",
        "                elif op == '-':\n",
        "                    resultado -= val\n",
        "                elif op == '*':\n",
        "                    resultado *= val\n",
        "                elif op == '/':\n",
        "                    if val == 0 or resultado % val != 0:\n",
        "                        es_valida = False\n",
        "                        break\n",
        "                    resultado //= val\n",
        "\n",
        "            total += 1\n",
        "            if es_valida:\n",
        "                total_validas += 1\n",
        "\n",
        "    print(\"Total de expresiones evaluadas:\", total)\n",
        "    print(\"Total de expresiones válidas (enteras):\", total_validas)\n",
        "    return total, total_validas"
      ],
      "execution_count": null,
      "outputs": []
    },
    {
      "cell_type": "code",
      "source": [
        "\n",
        "\n",
        "# Ejecutar\n",
        "evaluar_expresion_manual(digitos_list, operadores_list)"
      ],
      "metadata": {
        "colab": {
          "base_uri": "https://localhost:8080/"
        },
        "id": "K0wdTFqo9DuN",
        "outputId": "4be20194-623f-42ac-e72b-4a6bf32fc217"
      },
      "execution_count": null,
      "outputs": [
        {
          "output_type": "stream",
          "name": "stdout",
          "text": [
            "Total de expresiones evaluadas: 2880\n",
            "Total de expresiones válidas (enteras): 1274\n"
          ]
        },
        {
          "output_type": "execute_result",
          "data": {
            "text/plain": [
              "(2880, 1274)"
            ]
          },
          "metadata": {},
          "execution_count": 22
        }
      ]
    },
    {
      "cell_type": "markdown",
      "metadata": {
        "id": "eTFWUJQrtGcv"
      },
      "source": [
        "Enumera las referencias que has utilizado(si ha sido necesario) para llevar a cabo el trabajo"
      ]
    },
    {
      "cell_type": "markdown",
      "metadata": {
        "id": "YKQ_mRBttWsP"
      },
      "source": [
        "Algoritmo de Fuerza bruta y Poda"
      ]
    },
    {
      "cell_type": "markdown",
      "metadata": {
        "id": "kAkDPUyRtYyH"
      },
      "source": [
        "Describe brevemente las lineas de como crees que es posible avanzar en el estudio del problema. Ten en cuenta incluso posibles variaciones del problema y/o variaciones al alza del tamaño"
      ]
    },
    {
      "cell_type": "markdown",
      "metadata": {
        "id": "IE0uZmo-tZu-"
      },
      "source": [
        "Respuesta"
      ]
    }
  ]
}