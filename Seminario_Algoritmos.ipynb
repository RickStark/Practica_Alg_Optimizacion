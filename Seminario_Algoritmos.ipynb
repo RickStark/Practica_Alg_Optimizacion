{
  "nbformat": 4,
  "nbformat_minor": 0,
  "metadata": {
    "colab": {
      "provenance": []
    },
    "kernelspec": {
      "name": "python3",
      "display_name": "Python 3"
    }
  },
  "cells": [
    {
      "cell_type": "markdown",
      "metadata": {
        "id": "hVbXYX-RfPWh"
      },
      "source": [
        "# Algoritmos de optimización - Seminario<br>\n",
        "Nombre y Apellidos: Richard Jose Mendoza Medina  <br>\n",
        "Url: https://github.com/RickStark/Practica_Alg_Optimizacion/blob/main/Seminario_Algoritmos.ipynb <br>\n",
        "Problema:\n",
        ">3. Combinar cifras y operaciones\n",
        "\n",
        "Descripción del problema:(copiar enunciado)\n",
        "\n",
        "El problema consiste en analizar el siguiente problema y diseñar un algoritmo que lo resuelva.\n",
        "• Disponemos de las 9 cifras del 1 al 9 (excluimos el cero) y de los 4 signos básicos de las\n",
        "operaciones fundamentales: suma(+), resta(-), multiplicación(*) y división(/)\n",
        "• Debemos combinarlos alternativamente sin repetir ninguno de ellos para obtener una cantidad dada\n",
        "\n",
        "(*) La respuesta es obligatoria\n",
        "\n",
        "\n",
        "\n",
        "\n",
        "\n",
        "                                        "
      ]
    },
    {
      "cell_type": "markdown",
      "metadata": {
        "id": "3_-exlrTgLd-"
      },
      "source": [
        "(*)¿Cuantas posibilidades hay sin tener en cuenta las restricciones?<br>\n",
        "\n",
        "\n",
        "\n",
        "\n"
      ]
    },
    {
      "cell_type": "markdown",
      "metadata": {
        "id": "WfCUqJyKhPcw"
      },
      "source": [
        "Las posibilidades que se tiene sin tener en cuenta las restricciones es:\n",
        "\n",
        "5 dígitos (1 al 9 sin repetir): combinaciones = 9^5 = 59,049\n",
        "\n",
        "4 operadores : combinaciones 4^4 = 256\n",
        "\n",
        "Total combinaciones (sin restricciones de resultado) : 59,049 × 24 = 15,116,544"
      ]
    },
    {
      "cell_type": "markdown",
      "source": [
        "¿Cuantas posibilidades hay teniendo en cuenta todas las restricciones?\n",
        "\n",
        "Las posibilidades que se tiene en cuenta las restricciones es:\n",
        "\n",
        "5 dígitos (1 al 9 sin repetir): combinaciones = P(9,5) = 15,120\n",
        "\n",
        "4 operadores (sin repetir ): combinaciones P(4,4) = 24\n",
        "\n",
        "Total combinaciones (sin restricciones de resultado) : 15,120 × 24 = 362,880"
      ],
      "metadata": {
        "id": "D5P16AjXsodh"
      }
    },
    {
      "cell_type": "markdown",
      "source": [
        "- ¿Qué valor máximo y mínimo se pueden obtener según las condiciones del problema?\n",
        "\n",
        "  El valor minimo que se puede obtner es -69.0 y el maximo 77\n",
        "- ¿Es posible encontrar todos los valores enteros posibles entre dicho mínimo y máximo ?\n",
        "\n",
        "  Si es posible encontrar los valores enteros"
      ],
      "metadata": {
        "id": "kLFlLFHn8n-Z"
      }
    },
    {
      "cell_type": "code",
      "source": [
        "#Importa libreria\n",
        "import itertools\n",
        "\n",
        "# Lista de dígitos disponibles (del 1 al 9 como strings)\n",
        "digitos_disponibles = [str(i) for i in range(1, 10)]\n",
        "conbinaciones_total = (9**5)  * (4**4)\n",
        "# Lista de operadores disponibles\n",
        "operadores_disponibles = ['+', '-', '*', '/']\n",
        "\n",
        "# Generar todas las permutaciones posibles de 5 dígitos únicos\n",
        "permutaciones_digitos = itertools.permutations(digitos_disponibles, 5)\n",
        "\n",
        "# Generar todas las permutaciones posibles de los 4 operadores sin repetir\n",
        "permutaciones_operadores = list(itertools.permutations(operadores_disponibles, 4))\n",
        "\n",
        "# Contadores\n",
        "total_posibilidades = 0\n",
        "total_validas = 0\n",
        "\n",
        "# Variables para mínimo y máximo\n",
        "min_resultado = None\n",
        "max_resultado = None\n",
        "\n",
        "# Itera sobre todas las combinaciones de dígitos y operadores\n",
        "for digitos in permutaciones_digitos:\n",
        "    for operadores in permutaciones_operadores:\n",
        "        # Construir la expresión con formato: d1 op1 d2 op2 d3 op3 d4 op4 d5\n",
        "        expresion = ''.join(digitos[i] + operadores[i] for i in range(4)) + digitos[4]\n",
        "        total_posibilidades += 1\n",
        "        try:\n",
        "            # Evaluar la expresión y verificar si el resultado es entero\n",
        "            resultado = eval(expresion)\n",
        "            if resultado == int(resultado):\n",
        "                total_validas += 1\n",
        "                if min_resultado is None or resultado < min_resultado:\n",
        "                    min_resultado = resultado\n",
        "                if max_resultado is None or resultado > max_resultado:\n",
        "                    max_resultado = resultado\n",
        "        except ZeroDivisionError:\n",
        "            # Ignorar divisiones por cero\n",
        "            continue\n",
        "\n",
        "# Mostrar resultados\n",
        "print(\"Posibilidades sin restricción:\", conbinaciones_total)\n",
        "print(\"Posibilidades con restricción (resultado entero):\", total_posibilidades)\n",
        "print(\"Valor mínimo obtenido:\", min_resultado)\n",
        "print(\"Valor máximo obtenido:\", max_resultado)"
      ],
      "metadata": {
        "colab": {
          "base_uri": "https://localhost:8080/"
        },
        "id": "k4-ZLR-swlaE",
        "outputId": "f20584ed-428b-4bef-d7bb-986a3b7c58cb"
      },
      "execution_count": 2,
      "outputs": [
        {
          "output_type": "stream",
          "name": "stdout",
          "text": [
            "Posibilidades sin restricción: 15116544\n",
            "Posibilidades con restricción (resultado entero): 362880\n",
            "Valor mínimo obtenido: -69.0\n",
            "Valor máximo obtenido: 77.0\n"
          ]
        }
      ]
    },
    {
      "cell_type": "markdown",
      "source": [],
      "metadata": {
        "id": "SpMfv7-moRzm"
      }
    },
    {
      "cell_type": "markdown",
      "metadata": {
        "id": "dzynfVJahHoY"
      },
      "source": [
        "Modelo para el espacio de soluciones<br>\n",
        "(*) ¿Cual es la estructura de datos que mejor se adapta al problema? Argumentalo.(Es posible que hayas elegido una al principio y veas la necesidad de cambiar, arguentalo)\n"
      ]
    },
    {
      "cell_type": "markdown",
      "metadata": {
        "id": "xFIJrOwKi2Ti"
      },
      "source": [
        "La estructura de datos más adecuada para este problema es la lista, ya que permite almacenar y manipular de forma eficiente tanto los dígitos como los operadores. Las listas facilitan la generación de permutaciones mediante herramientas como itertools.permutations, y se integran naturalmente con estructuras de control como los bucles for, que son ideales para recorrer y combinar los elementos en las expresiones requeridas."
      ]
    },
    {
      "cell_type": "markdown",
      "metadata": {
        "id": "7Z9U2W7bi-XS"
      },
      "source": [
        "Según el modelo para el espacio de soluciones<br>\n",
        "(*)¿Cual es la función objetivo?\n",
        "\n",
        "(*)¿Es un problema de maximización o minimización?"
      ]
    },
    {
      "cell_type": "markdown",
      "metadata": {
        "id": "hBalWLM7j1_d"
      },
      "source": [
        "La funcion objetivo minimizar el número de expresiones válidas construidas a partir de 5 dígitos únicos del 1 al 9 y los 4 operadores básicos sin repetir, tales que el resultado de la expresión sea un número entero.\n",
        "\n",
        "Funcion objetivo : min(T(n)=c⋅n)\n",
        "\n",
        "n : total de combinaciones para este caso 362880\n",
        "\n",
        "c : es el coste constante de eval() (u otro evaluador)\n",
        "\n",
        "T(n) :  es el tiempo total del algoritmo\n",
        "\n",
        "Es un problema de optimización por minimización, en el que se busca reducir al mínimo el número de combinaciones de dígitos y operadores que deben ser evaluadas para obtener una expresión válida que produzca un valor entero específico, cumpliendo con todas las restricciones impuestas.\n"
      ]
    },
    {
      "cell_type": "markdown",
      "metadata": {
        "id": "rlnTYgY1j6I2"
      },
      "source": [
        "Diseña un algoritmo para resolver el problema por fuerza bruta"
      ]
    },
    {
      "cell_type": "markdown",
      "metadata": {
        "id": "70rDgxYXkC8r"
      },
      "source": [
        "Respuesta"
      ]
    },
    {
      "cell_type": "code",
      "source": [
        "#Importa libreria\n",
        "import itertools\n",
        "\n",
        "def buscar_primera_combinacion_valida(valor_objetivo):\n",
        "    # Lista de dígitos disponibles (del 1 al 9 como strings)\n",
        "    digitos_disponibles = [str(i) for i in range(1, 10)]\n",
        "\n",
        "    # Lista de operadores disponibles\n",
        "    operadores_disponibles = ['+', '-', '*', '/']\n",
        "\n",
        "    # Generar todas las permutaciones posibles de 5 dígitos únicos\n",
        "    permutaciones_digitos = itertools.permutations(digitos_disponibles, 5)\n",
        "\n",
        "    # Generar todas las permutaciones posibles de los 4 operadores sin repetir\n",
        "    permutaciones_operadores = list(itertools.permutations(operadores_disponibles, 4))\n",
        "\n",
        "    total_posibilidades = 0  # variable par contabilizar las combinaciones evaluadas\n",
        "\n",
        "    # Iterar sobre todas las combinaciones\n",
        "    for digitos in permutaciones_digitos:\n",
        "        for operadores in permutaciones_operadores:\n",
        "            total_posibilidades += 1\n",
        "            expresion = ''.join(digitos[i] + operadores[i] for i in range(4)) + digitos[4]\n",
        "            try:\n",
        "                resultado = eval(expresion)\n",
        "                # Se valida que el resultado es entero y es el valor buscado\n",
        "                if resultado == int(resultado) and int(resultado) == valor_objetivo:\n",
        "                    # Imprime la primera expresion valida y la cantidad de combinacion evaluadas\n",
        "                    print(f\"Primera expresión válida encontrada: {expresion} = {int(resultado)}\")\n",
        "                    print(f\"Total de combinaciones evaluadas: {total_posibilidades}\")\n",
        "                    return expresion\n",
        "            except ZeroDivisionError:\n",
        "                continue\n",
        "\n",
        "    print(\"No se encontró ninguna expresión válida.\")\n",
        "    print(f\"Total de combinaciones evaluadas: {total_posibilidades}\")\n",
        "    return None\n",
        "\n",
        "# Ejemplo de uso:\n",
        "primera_valida = buscar_primera_combinacion_valida(10)\n"
      ],
      "metadata": {
        "colab": {
          "base_uri": "https://localhost:8080/"
        },
        "id": "Z1UlrYgde0q-",
        "outputId": "f612e1f5-3bf5-45bf-e5ed-79b8d14adc91"
      },
      "execution_count": null,
      "outputs": [
        {
          "output_type": "stream",
          "name": "stdout",
          "text": [
            "Primera expresión válida encontrada: 1+2*6-9/3 = 10\n",
            "Total de combinaciones evaluadas: 2763\n"
          ]
        }
      ]
    },
    {
      "cell_type": "markdown",
      "metadata": {
        "id": "tgrnsC2nkFa8"
      },
      "source": [
        "Calcula la complejidad del algoritmo por fuerza bruta"
      ]
    },
    {
      "cell_type": "markdown",
      "metadata": {
        "id": "9eUd3xwckP68"
      },
      "source": [
        "Para obtener la complejidad del algoritmo por fuerza bruta primero se tiene que calcular las conbinaciones posibles para este caso ya fue calculada y es 362,880\n",
        "\n",
        "La evaluación mediante eval() tiene un costo constante O(1) para expresiones de esta dimensión.\n",
        "\n",
        "Por lo tanto, la complejidad total del algoritmo de fuerza bruta es:\n",
        "\n",
        "O(n)  "
      ]
    },
    {
      "cell_type": "markdown",
      "metadata": {
        "id": "txbrmLmskReM"
      },
      "source": [
        "(*)Diseña un algoritmo que mejore la complejidad del algortimo por fuerza bruta. Argumenta porque crees que mejora el algoritmo por fuerza bruta"
      ]
    },
    {
      "cell_type": "markdown",
      "metadata": {
        "id": "hLrVwt5QkZPD"
      },
      "source": [
        "La mejora en la complejidad se logra combinando el algoritmo DFS con poda temprana externa. Esta combinacion  permite descartar la mayoría de las combinaciones inviables antes de procesarlas. Al validar si el valor objetivo está dentro de un rango previamente calculado, se evita evaluar expresiones fuera de los límites posibles, eliminando así cálculos innecesarios. Esto reduce significativamente el espacio de búsqueda y el costo computacional real del algoritmo."
      ]
    },
    {
      "cell_type": "code",
      "source": [
        "#Importa libreria\n",
        "import operator\n",
        "from itertools import permutations\n",
        "import itertools\n",
        "\n",
        "# Se realiza una ves el calculo y luego se toma para que el rango para hacer del valor objetivo esta dentro del rango\n",
        "def calcular_rango_min_max():\n",
        "    \"\"\"\n",
        "    Calcula el valor mínimo y máximo enteros alcanzables con todas las expresiones\n",
        "    formadas por 5 dígitos únicos (1-9) y 4 operadores únicos (+, -, *, /).\n",
        "    \"\"\"\n",
        "    digitos_disponibles = [str(i) for i in range(1, 10)]\n",
        "    operadores_disponibles = ['+', '-', '*', '/']\n",
        "\n",
        "    minimo = float('inf')\n",
        "    maximo = float('-inf')\n",
        "    # Generar todas las combinaciones posibles de 5 dígitos y 4 operadores\n",
        "    for dig_permutacion in itertools.permutations(digitos_disponibles, 5):\n",
        "        for op_permutacion in itertools.permutations(operadores_disponibles, 4):\n",
        "            # Construye  la expresión alternando dígitos y operadores\n",
        "            expresion = ''.join(\n",
        "                dig_permutacion[i] + op_permutacion[i]\n",
        "                for i in range(4)\n",
        "            ) + dig_permutacion[4]\n",
        "            try:\n",
        "                resultado = eval(expresion)\n",
        "                if resultado == int(resultado): # Solo considera enteros\n",
        "                    entero = int(resultado)\n",
        "                    minimo = min(minimo, entero)\n",
        "                    maximo = max(maximo, entero)\n",
        "            except ZeroDivisionError:\n",
        "                continue # Ignora las divisiones por cero\n",
        "\n",
        "    return minimo, maximo\n",
        "\n",
        "# Rango válido global para hacer poda temprana\n",
        "RANGO_MIN, RANGO_MAX = calcular_rango_min_max()\n",
        "\n",
        "def evaluar_paso_a_paso(digitos, operadores):\n",
        "    \"\"\"\n",
        "    Evalúa una expresión paso a paso, aplicando cada operación de izquierda a derecha.\n",
        "    Si alguna operación intermedia da como resultado un valor no entero\n",
        "    o produce una división por cero, se descarta la expresión (poda temprana).\n",
        "    \"\"\"\n",
        "    try:\n",
        "        resultado = int(digitos[0])\n",
        "    except ValueError:\n",
        "        return False\n",
        "\n",
        "    for i in range(4):\n",
        "        operando = int(digitos[i + 1])\n",
        "        operador = operadores[i]\n",
        "\n",
        "        try:\n",
        "            if operador == '+':\n",
        "                resultado += operando\n",
        "            elif operador == '-':\n",
        "                resultado -= operando\n",
        "            elif operador == '*':\n",
        "                resultado *= operando\n",
        "            elif operador == '/':\n",
        "                if operando == 0 or resultado % operando != 0:\n",
        "                    return False  # División inválida: por cero o no entera\n",
        "                resultado //= operando\n",
        "        except Exception:\n",
        "            return False\n",
        "\n",
        "    return True  # La expresión completa es válida y termina en entero\n",
        "\n",
        "def buscar_primera_combinacion_valida_dfs(valor_objetivo):\n",
        "    \"\"\"\n",
        "    Busca la primera combinación válida de 5 dígitos (del 1 al 9) y 4 operadores (+, -, *, /)\n",
        "    que resulte en el valor objetivo. La expresión debe alternar dígitos y operadores.\n",
        "    Utiliza un enfoque de búsqueda en profundidad (DFS).\n",
        "    \"\"\"\n",
        "    # Si el valor objetivo está fuera del rango estimado se termina la evaluacion\n",
        "    def esta_dentro_de_rango(valor_objetivo, minimo, maximo):\n",
        "      return minimo <= valor_objetivo <= maximo\n",
        "    if not esta_dentro_de_rango(valor_objetivo, RANGO_MIN, RANGO_MAX):\n",
        "      print(f\"El valor objetivo {valor_objetivo} está fuera del rango estimado [{RANGO_MIN}, {RANGO_MAX}].\")\n",
        "      return None\n",
        "    digitos_base = [str(i) for i in range(1, 10)]\n",
        "    #Genera un nuevo orden de los digito para no depender de un orden especifico\n",
        "    random.shuffle(digitos_base)\n",
        "    #digitos_base = ['9','7','5','3','1','2','4','6','8']\n",
        "    operadores_base = ['+', '-', '*', '/']\n",
        "    #Genera un nuevo orden de los operador para no depender de un orden especifico\n",
        "    random.shuffle(operadores_base)\n",
        "    total_combinaciones_evaluadas = 0\n",
        "\n",
        "\n",
        "    # Mapa de operadores para evitar redefiniciones\n",
        "    operadores_map = {\n",
        "        '+': operator.add,\n",
        "        '-': operator.sub,\n",
        "        '*': operator.mul,\n",
        "        '/': operator.truediv\n",
        "    }\n",
        "    #Set  para evitar realizar calculo de la expresion mas de una ves\n",
        "    expresiones_vistas = set()\n",
        "\n",
        "    def dfs(digitos_restantes, operadores_restantes, expresion_actual, valor_actual):\n",
        "        nonlocal total_combinaciones_evaluadas\n",
        "        #total_combinaciones_evaluadas += 1\n",
        "\n",
        "        # Si ya hemos construido una expresión completa (5 dígitos y 4 operadores)\n",
        "        if len(expresion_actual) == 9:\n",
        "            #valida si la expresion ya fue evaluada\n",
        "            if expresion_actual in expresiones_vistas:\n",
        "              return None\n",
        "            #Añade un nueva expresion evaluada al set\n",
        "            expresiones_vistas.add(expresion_actual)\n",
        "            total_combinaciones_evaluadas += 1\n",
        "            try:\n",
        "                resultado = eval(expresion_actual)\n",
        "                # Verificamos que sea un entero y coincida con el valor objetivo\n",
        "                if resultado == int(valor_objetivo):\n",
        "                    print(f\"Primera expresión válida encontrada: {expresion_actual} = {int(resultado)}\")\n",
        "                    print(f\"Total de combinaciones evaluadas: {total_combinaciones_evaluadas}\")\n",
        "                    return expresion_actual\n",
        "            except ZeroDivisionError:\n",
        "                pass  # Ignorar divisiones por cero\n",
        "            except SyntaxError:\n",
        "                pass # Ignorar expresiones mal formadas (aunque el DFS debería prevenirlas)\n",
        "            return None\n",
        "\n",
        "        # Si el último carácter es un dígito, se inserta operador\n",
        "        if not expresion_actual or expresion_actual[-1].isdigit():\n",
        "            if not operadores_restantes:\n",
        "                return None # No hay operadores disponibles para continuar\n",
        "            for i, op in enumerate(operadores_restantes):\n",
        "                nueva_operadores_restantes = operadores_restantes[:i] + operadores_restantes[i+1:]\n",
        "                resultado = dfs(digitos_restantes, nueva_operadores_restantes, expresion_actual + op, valor_actual)\n",
        "                if resultado:\n",
        "                    return resultado\n",
        "        # Si el último carácter es un operador, se inserta dígito\n",
        "        else:\n",
        "            if not digitos_restantes:\n",
        "                return None # No hay dígitos disponibles para continuar\n",
        "            for i, digito in enumerate(digitos_restantes):\n",
        "                nueva_digitos_restantes = digitos_restantes[:i] + digitos_restantes[i+1:]\n",
        "                resultado = dfs(nueva_digitos_restantes, operadores_restantes, expresion_actual + digito, valor_actual)\n",
        "                if resultado:\n",
        "                    return resultado\n",
        "        return None\n",
        "\n",
        "    # Para cada combinación, iniciar una nueva búsqueda DFS\n",
        "\n",
        "\n",
        "    #digitos=permutations(digitos_base, 5)\n",
        "    #operadores=permutations(operadores_base, 4)\n",
        "\n",
        "    #if valor_objetivo>0 and valor_objetivo<30:\n",
        "    #  return None\n",
        "    #resultado = None\n",
        "\n",
        "\n",
        "    for digitos_perm in permutations(digitos_base, 5):\n",
        "        for operadores_perm in permutations(operadores_base, 4):\n",
        "            resultado = None\n",
        "            # Poda temprana externa: solo intentar DFS si la combinación parece válida\n",
        "            if evaluar_paso_a_paso(digitos_perm, operadores_perm):\n",
        "              resultado = dfs(list(digitos_perm[1:]), list(operadores_perm), digitos_perm[0], 0)\n",
        "            # Si hay resultado valido\n",
        "            if resultado:\n",
        "                  return resultado\n",
        "    # Imprimira si ninguna combinación fue válida\n",
        "    print(\"No se encontró ninguna expresión válida.\")\n",
        "    print(f\"Total de combinaciones evaluadas: {total_combinaciones_evaluadas}\")\n",
        "    return None\n",
        "\n",
        "# Ejemplo de uso\n",
        "print(\"\\n--- Buscando combinación para el valor ---\")\n",
        "primera_valida_1 = buscar_primera_combinacion_valida_dfs(70)\n"
      ],
      "metadata": {
        "colab": {
          "base_uri": "https://localhost:8080/"
        },
        "id": "H7mMngkdEaKU",
        "outputId": "22b60024-7ecc-48b3-fbff-56cfcff59791"
      },
      "execution_count": null,
      "outputs": [
        {
          "output_type": "stream",
          "name": "stdout",
          "text": [
            "\n",
            "--- Buscando combinación para el valor ---\n",
            "Primera expresión válida encontrada: 5-7/1+9*8 = 70\n",
            "Total de combinaciones evaluadas: 20867\n"
          ]
        }
      ]
    },
    {
      "cell_type": "markdown",
      "metadata": {
        "id": "NhpTh_BPk1ms"
      },
      "source": [
        "### Complejidad del algoritmo DFS con Poda temprana\n",
        "\n",
        "- Complejidad :\n",
        "\n",
        "  Peor de los casos --> O(N)\n",
        "\n",
        "  Mejor de los casos --> O(k)  k<=N\n",
        "\n",
        "- Con la poda temprana externa filtra la mayoria de combinacion inviables , con la rango valido  se evita  calcular valores que esta fuera de este y con esto evita cálculos innecesarios y reduce significativamente el costo computacional."
      ]
    },
    {
      "cell_type": "markdown",
      "metadata": {
        "id": "3M6QjTsSkmYe"
      },
      "source": [
        "Según el problema (y tenga sentido), diseña un juego de datos de entrada aleatorios"
      ]
    },
    {
      "cell_type": "markdown",
      "metadata": {
        "id": "Jc3_OlyNkvjZ"
      },
      "source": [
        "Respuesta"
      ]
    },
    {
      "cell_type": "code",
      "source": [
        "import random\n",
        "#Funciono que genera valores aleatorios a evaluar en el algoritmo\n",
        "def generar_valores_objetivo_aleatorios(n_muestras, rango_min, rango_max):\n",
        "    return random.sample(range(rango_min, rango_max + 1), n_muestras)"
      ],
      "metadata": {
        "id": "iXJJVuKXOOLC"
      },
      "execution_count": null,
      "outputs": []
    },
    {
      "cell_type": "code",
      "source": [
        "#Obtiene los valores aleatorios\n",
        "valores_objetivo = generar_valores_objetivo_aleatorios(5, 1, 10)\n"
      ],
      "metadata": {
        "id": "7oY4fM0rO_pB"
      },
      "execution_count": null,
      "outputs": []
    },
    {
      "cell_type": "markdown",
      "metadata": {
        "id": "zy5ZROmjlGo1"
      },
      "source": [
        "Aplica el algoritmo al juego de datos generado"
      ]
    },
    {
      "cell_type": "code",
      "source": [
        "#Uso de los valores al algoritmo\n",
        "for valor in valores_objetivo:\n",
        "    print(f\"\\nProbando con valor objetivo: {valor}\")\n",
        "    buscar_primera_combinacion_valida_dfs(valor)"
      ],
      "metadata": {
        "colab": {
          "base_uri": "https://localhost:8080/"
        },
        "id": "K0wdTFqo9DuN",
        "outputId": "f6f7b663-a984-4545-fec4-825728d82012"
      },
      "execution_count": null,
      "outputs": [
        {
          "output_type": "stream",
          "name": "stdout",
          "text": [
            "\n",
            "Probando con valor objetivo: 8\n",
            "Primera expresión válida encontrada: 1+4*5/2-3 = 8\n",
            "Total de combinaciones evaluadas: 95\n",
            "\n",
            "Probando con valor objetivo: 9\n",
            "Primera expresión válida encontrada: 1+3*4-8/2 = 9\n",
            "Total de combinaciones evaluadas: 1782\n",
            "\n",
            "Probando con valor objetivo: 3\n",
            "Primera expresión válida encontrada: 1+3-2*4/8 = 3\n",
            "Total de combinaciones evaluadas: 1765\n",
            "\n",
            "Probando con valor objetivo: 10\n",
            "Primera expresión válida encontrada: 1+3*4-6/2 = 10\n",
            "Total de combinaciones evaluadas: 630\n",
            "\n",
            "Probando con valor objetivo: 7\n",
            "Primera expresión válida encontrada: 1+2*4-6/3 = 7\n",
            "Total de combinaciones evaluadas: 594\n"
          ]
        }
      ]
    },
    {
      "cell_type": "markdown",
      "metadata": {
        "id": "eTFWUJQrtGcv"
      },
      "source": [
        "Enumera las referencias que has utilizado(si ha sido necesario) para llevar a cabo el trabajo"
      ]
    },
    {
      "cell_type": "markdown",
      "metadata": {
        "id": "YKQ_mRBttWsP"
      },
      "source": [
        "Notación Big-O\n",
        "\n",
        "Algoritmo de búsqueda en profundidad (DFS)\n",
        "\n",
        "Poda temprana"
      ]
    },
    {
      "cell_type": "markdown",
      "metadata": {
        "id": "kAkDPUyRtYyH"
      },
      "source": [
        "Describe brevemente las lineas de como crees que es posible avanzar en el estudio del problema. Ten en cuenta incluso posibles variaciones del problema y/o variaciones al alza del tamaño"
      ]
    },
    {
      "cell_type": "markdown",
      "metadata": {
        "id": "IE0uZmo-tZu-"
      },
      "source": [
        "El problema puede escalar en múltiples dimensiones: mayor cantidad de dígitos, más operadores o expresiones  más complejas. Para abordarlo de manera eficiente, es clave aplicar poda más agresiva, incorporar heurísticas inteligentes, aprovechar la paralelización y utilizar metaheurísticas que reduzcan significativamente el costo computacional."
      ]
    }
  ]
}