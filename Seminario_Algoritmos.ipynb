{
  "nbformat": 4,
  "nbformat_minor": 0,
  "metadata": {
    "colab": {
      "provenance": []
    },
    "kernelspec": {
      "name": "python3",
      "display_name": "Python 3"
    }
  },
  "cells": [
    {
      "cell_type": "markdown",
      "metadata": {
        "id": "hVbXYX-RfPWh"
      },
      "source": [
        "# Algoritmos de optimización - Seminario<br>\n",
        "Nombre y Apellidos: Richard Jose Mendoza Medina  <br>\n",
        "Url: https://github.com/RickStark/Practica_Alg_Optimizacion/tree/main <br>\n",
        "Problema:\n",
        ">3. Combinar cifras y operaciones\n",
        "\n",
        "Descripción del problema:(copiar enunciado)\n",
        "\n",
        "El problema consiste en analizar el siguiente problema y diseñar un algoritmo que lo resuelva.\n",
        "• Disponemos de las 9 cifras del 1 al 9 (excluimos el cero) y de los 4 signos básicos de las\n",
        "operaciones fundamentales: suma(+), resta(-), multiplicación(*) y división(/)\n",
        "• Debemos combinarlos alternativamente sin repetir ninguno de ellos para obtener una cantidad dada\n",
        "\n",
        "(*) La respuesta es obligatoria\n",
        "\n",
        "\n",
        "\n",
        "\n",
        "\n",
        "                                        "
      ]
    },
    {
      "cell_type": "markdown",
      "metadata": {
        "id": "3_-exlrTgLd-"
      },
      "source": [
        "(*)¿Cuantas posibilidades hay sin tener en cuenta las restricciones?<br>\n",
        "\n",
        "\n",
        "\n",
        "¿Cuantas posibilidades hay teniendo en cuenta todas las restricciones.\n",
        "\n",
        "\n"
      ]
    },
    {
      "cell_type": "markdown",
      "metadata": {
        "id": "WfCUqJyKhPcw"
      },
      "source": [
        "Las posibilidades que se tiene sin tener en cuenta las restricciones es:\n",
        "\n",
        "5 dígitos (1 al 9 sin repetir): combinaciones = P(9,5) = 15,120\n",
        "\n",
        "4 operadores (sin repetir ): combinaciones P(4,4) = 24\n",
        "\n",
        "Total combinaciones (sin restricciones de resultado) : 15,120 × 24 = 362,880"
      ]
    },
    {
      "cell_type": "markdown",
      "source": [
        "Las posibilidades que se tiene en cuenta con las restricciones es 90000"
      ],
      "metadata": {
        "id": "D5P16AjXsodh"
      }
    },
    {
      "cell_type": "markdown",
      "source": [
        "- ¿Qué valor máximo y mínimo se pueden obtener según las condiciones del problema?\n",
        "\n",
        "  El valor minimo que se puede obtner es -69.0 y el maximo 77\n",
        "- ¿Es posible encontrar todos los valores enteros posibles entre dicho mínimo y máximo ?\n",
        "\n",
        "  Si es posible encontrar los valores enteros"
      ],
      "metadata": {
        "id": "kLFlLFHn8n-Z"
      }
    },
    {
      "cell_type": "code",
      "source": [],
      "metadata": {
        "id": "6_tlLE3zvSOb"
      },
      "execution_count": null,
      "outputs": []
    },
    {
      "cell_type": "code",
      "source": [
        "import itertools\n",
        "\n",
        "# Lista de dígitos disponibles (del 1 al 9 como strings)\n",
        "digitos_disponibles = [str(i) for i in range(1, 10)]\n",
        "\n",
        "# Lista de operadores disponibles\n",
        "operadores_disponibles = ['+', '-', '*', '/']\n",
        "\n",
        "# Generar todas las permutaciones posibles de 5 dígitos únicos\n",
        "permutaciones_digitos = itertools.permutations(digitos_disponibles, 5)\n",
        "\n",
        "# Generar todas las permutaciones posibles de los 4 operadores sin repetir\n",
        "permutaciones_operadores = list(itertools.permutations(operadores_disponibles, 4))\n",
        "\n",
        "# Contadores\n",
        "total_posibilidades = 0\n",
        "total_validas = 0\n",
        "\n",
        "# Variables para mínimo y máximo\n",
        "min_resultado = None\n",
        "max_resultado = None\n",
        "\n",
        "# Itera sobre todas las combinaciones de dígitos y operadores\n",
        "for digitos in permutaciones_digitos:\n",
        "    for operadores in permutaciones_operadores:\n",
        "        # Construir la expresión con formato: d1 op1 d2 op2 d3 op3 d4 op4 d5\n",
        "        expresion = ''.join(digitos[i] + operadores[i] for i in range(4)) + digitos[4]\n",
        "        total_posibilidades += 1\n",
        "        try:\n",
        "            # Evaluar la expresión y verificar si el resultado es entero\n",
        "            resultado = eval(expresion)\n",
        "            if resultado == int(resultado):\n",
        "                total_validas += 1\n",
        "                if min_resultado is None or resultado < min_resultado:\n",
        "                    min_resultado = resultado\n",
        "                if max_resultado is None or resultado > max_resultado:\n",
        "                    max_resultado = resultado\n",
        "        except ZeroDivisionError:\n",
        "            # Ignorar divisiones por cero\n",
        "            continue\n",
        "\n",
        "# Mostrar resultados\n",
        "print(\"Posibilidades sin restricción:\", total_posibilidades)\n",
        "print(\"Posibilidades con restricción (resultado entero):\", total_validas)\n",
        "print(\"Valor mínimo obtenido:\", min_resultado)\n",
        "print(\"Valor máximo obtenido:\", max_resultado)"
      ],
      "metadata": {
        "colab": {
          "base_uri": "https://localhost:8080/"
        },
        "id": "k4-ZLR-swlaE",
        "outputId": "b992a623-c189-4587-9686-ac2957ed6670"
      },
      "execution_count": null,
      "outputs": [
        {
          "output_type": "stream",
          "name": "stdout",
          "text": [
            "Posibilidades sin restricción: 362880\n",
            "Posibilidades con restricción (resultado entero): 90000\n",
            "Valor mínimo obtenido: -69.0\n",
            "Valor máximo obtenido: 77.0\n"
          ]
        }
      ]
    },
    {
      "cell_type": "markdown",
      "source": [],
      "metadata": {
        "id": "SpMfv7-moRzm"
      }
    },
    {
      "cell_type": "markdown",
      "metadata": {
        "id": "dzynfVJahHoY"
      },
      "source": [
        "Modelo para el espacio de soluciones<br>\n",
        "(*) ¿Cual es la estructura de datos que mejor se adapta al problema? Argumentalo.(Es posible que hayas elegido una al principio y veas la necesidad de cambiar, arguentalo)\n"
      ]
    },
    {
      "cell_type": "markdown",
      "metadata": {
        "id": "xFIJrOwKi2Ti"
      },
      "source": [
        "La estructura de datos más adecuada para este problema es la lista, ya que permite almacenar y manipular de forma eficiente tanto los dígitos como los operadores. Las listas facilitan la generación de permutaciones mediante herramientas como itertools.permutations, y se integran naturalmente con estructuras de control como los bucles for, que son ideales para recorrer y combinar los elementos en las expresiones requeridas."
      ]
    },
    {
      "cell_type": "markdown",
      "metadata": {
        "id": "7Z9U2W7bi-XS"
      },
      "source": [
        "Según el modelo para el espacio de soluciones<br>\n",
        "(*)¿Cual es la función objetivo?\n",
        "\n",
        "(*)¿Es un problema de maximización o minimización?"
      ]
    },
    {
      "cell_type": "markdown",
      "metadata": {
        "id": "hBalWLM7j1_d"
      },
      "source": [
        "La funcion objetivo minimizar el número de expresiones válidas construidas a partir de 5 dígitos únicos del 1 al 9 y los 4 operadores básicos sin repetir, tales que el resultado de la expresión sea un número entero.\n",
        "\n",
        "Funcion objetivo : min(T(n)=c⋅n)\n",
        "\n",
        "n : total de combinaciones para este caso 362880\n",
        "\n",
        "c : es el coste constante de eval() (u otro evaluador)\n",
        "\n",
        "T(n) :  es el tiempo total del algoritmo\n",
        "\n",
        "Es un problema de optimización por minimización, en el que se busca reducir al mínimo el número de combinaciones de dígitos y operadores que deben ser evaluadas para obtener una expresión válida que produzca un valor entero específico, cumpliendo con todas las restricciones impuestas.\n"
      ]
    },
    {
      "cell_type": "markdown",
      "metadata": {
        "id": "rlnTYgY1j6I2"
      },
      "source": [
        "Diseña un algoritmo para resolver el problema por fuerza bruta"
      ]
    },
    {
      "cell_type": "markdown",
      "metadata": {
        "id": "70rDgxYXkC8r"
      },
      "source": [
        "Respuesta"
      ]
    },
    {
      "cell_type": "code",
      "source": [
        "import itertools\n",
        "\n",
        "def buscar_primera_combinacion_valida(valor_objetivo):\n",
        "    # Lista de dígitos disponibles (del 1 al 9 como strings)\n",
        "    digitos_disponibles = [str(i) for i in range(1, 10)]\n",
        "\n",
        "    # Lista de operadores disponibles\n",
        "    operadores_disponibles = ['+', '-', '*', '/']\n",
        "\n",
        "    # Generar todas las permutaciones posibles de 5 dígitos únicos\n",
        "    permutaciones_digitos = itertools.permutations(digitos_disponibles, 5)\n",
        "\n",
        "    # Generar todas las permutaciones posibles de los 4 operadores sin repetir\n",
        "    permutaciones_operadores = list(itertools.permutations(operadores_disponibles, 4))\n",
        "\n",
        "    total_posibilidades = 0  # variable par contabilizar las combinaciones evaluadas\n",
        "\n",
        "    # Iterar sobre todas las combinaciones\n",
        "    for digitos in permutaciones_digitos:\n",
        "        for operadores in permutaciones_operadores:\n",
        "            total_posibilidades += 1\n",
        "            expresion = ''.join(digitos[i] + operadores[i] for i in range(4)) + digitos[4]\n",
        "            try:\n",
        "                resultado = eval(expresion)\n",
        "                # Se valida que el resultado es entero y es el valor buscado\n",
        "                if resultado == int(resultado) and int(resultado) == valor_objetivo:\n",
        "                    # Imprime la primera expresion valida y la cantidad de combinacion evaluadas\n",
        "                    print(f\"Primera expresión válida encontrada: {expresion} = {int(resultado)}\")\n",
        "                    print(f\"Total de combinaciones evaluadas: {total_posibilidades}\")\n",
        "                    return expresion\n",
        "            except ZeroDivisionError:\n",
        "                continue\n",
        "\n",
        "    print(\"No se encontró ninguna expresión válida.\")\n",
        "    print(f\"Total de combinaciones evaluadas: {total_posibilidades}\")\n",
        "    return None\n",
        "\n",
        "# Ejemplo de uso:\n",
        "primera_valida = buscar_primera_combinacion_valida(70)\n"
      ],
      "metadata": {
        "colab": {
          "base_uri": "https://localhost:8080/"
        },
        "id": "Z1UlrYgde0q-",
        "outputId": "cbc7b1b6-c266-4924-f873-1d2f241161cc"
      },
      "execution_count": null,
      "outputs": [
        {
          "output_type": "stream",
          "name": "stdout",
          "text": [
            "Primera expresión válida encontrada: 1-6/2+8*9 = 70\n",
            "Total de combinaciones evaluadas: 20747\n"
          ]
        }
      ]
    },
    {
      "cell_type": "markdown",
      "metadata": {
        "id": "tgrnsC2nkFa8"
      },
      "source": [
        "Calcula la complejidad del algoritmo por fuerza bruta"
      ]
    },
    {
      "cell_type": "markdown",
      "metadata": {
        "id": "9eUd3xwckP68"
      },
      "source": [
        "Para obtener la complejidad del algoritmo por fuerza bruta primero se tiene que calcular las conbinaciones posibles para este caso ya fue calculada y es 362,880\n",
        "\n",
        "La evaluación mediante eval() tiene un costo constante para expresiones de esta dimensión.\n",
        "\n",
        "Por lo tanto, la complejidad temporal total del algoritmo es lineal con respecto al número de combinaciones:\n",
        "\n",
        "O(n) donde n=362,880"
      ]
    },
    {
      "cell_type": "markdown",
      "metadata": {
        "id": "txbrmLmskReM"
      },
      "source": [
        "(*)Diseña un algoritmo que mejore la complejidad del algortimo por fuerza bruta. Argumenta porque crees que mejora el algoritmo por fuerza bruta"
      ]
    },
    {
      "cell_type": "markdown",
      "metadata": {
        "id": "hLrVwt5QkZPD"
      },
      "source": [
        "El algoritmo que mejora la complejidad es el algoritmo de poda porque lo que va ser es evaluar parcialmente y identificar operacion invalida de manera pronta lo que evita miles de cálculos innecesarios."
      ]
    },
    {
      "cell_type": "code",
      "metadata": {
        "id": "m1eyM21Vkabg",
        "colab": {
          "base_uri": "https://localhost:8080/"
        },
        "outputId": "42dc5383-55ae-45ff-bbc4-aa9bb29233bb"
      },
      "source": [
        "import itertools\n",
        "\n",
        "def evaluar_paso_a_paso(digitos, operadores):\n",
        "    \"\"\"\n",
        "    Evalúa una expresión paso a paso, aplicando cada operación de izquierda a derecha.\n",
        "    Si alguna operación intermedia da como resultado un valor no entero\n",
        "    o produce una división por cero, se descarta la expresión (poda temprana).\n",
        "    \"\"\"\n",
        "    try:\n",
        "        resultado = int(digitos[0])\n",
        "    except ValueError:\n",
        "        return False\n",
        "\n",
        "    for i in range(4):\n",
        "        operando = int(digitos[i + 1])\n",
        "        operador = operadores[i]\n",
        "\n",
        "        try:\n",
        "            if operador == '+':\n",
        "                resultado += operando\n",
        "            elif operador == '-':\n",
        "                resultado -= operando\n",
        "            elif operador == '*':\n",
        "                resultado *= operando\n",
        "            elif operador == '/':\n",
        "                if operando == 0 or resultado % operando != 0:\n",
        "                    return False  # División inválida: por cero o no entera\n",
        "                resultado //= operando\n",
        "        except Exception:\n",
        "            return False\n",
        "\n",
        "    return True  # La expresión completa es válida y termina en entero\n",
        "\n",
        "def contar_expresiones_validas_con_poda():\n",
        "    \"\"\"\n",
        "    Genera todas las combinaciones posibles de 5 dígitos únicos (1–9) y\n",
        "    4 operadores básicos (+ - * /), y cuenta cuántas expresiones son válidas\n",
        "    bajo evaluación secuencial con poda temprana.\n",
        "    \"\"\"\n",
        "    digitos_disponibles = [str(i) for i in range(1, 10)]\n",
        "    operadores_disponibles = ['+', '-', '*', '/']\n",
        "\n",
        "    total = 0\n",
        "    total_validas = 0\n",
        "\n",
        "    permutaciones_digitos = itertools.permutations(digitos_disponibles, 5)\n",
        "    permutaciones_operadores = list(itertools.permutations(operadores_disponibles, 4))\n",
        "\n",
        "    for digitos in permutaciones_digitos:\n",
        "        for operadores in permutaciones_operadores:\n",
        "            total += 1\n",
        "            if evaluar_paso_a_paso(digitos, operadores):\n",
        "                total_validas += 1\n",
        "\n",
        "    print(\"Total de combinaciones evaluadas:\", total)\n",
        "    print(\"Total de expresiones válidas (enteras):\", total_validas)\n",
        "\n",
        "# Ejecutar\n",
        "contar_expresiones_validas_con_poda()"
      ],
      "execution_count": null,
      "outputs": [
        {
          "output_type": "stream",
          "name": "stdout",
          "text": [
            "Total de combinaciones evaluadas: 362880\n",
            "Total de expresiones válidas (enteras): 106699\n"
          ]
        }
      ]
    },
    {
      "cell_type": "code",
      "source": [
        "import operator\n",
        "from itertools import permutations\n",
        "\n",
        "def buscar_primera_combinacion_valida_dfs(valor_objetivo):\n",
        "    \"\"\"\n",
        "    Busca la primera combinación válida de 5 dígitos (del 1 al 9) y 4 operadores (+, -, *, /)\n",
        "    que resulte en el valor objetivo. La expresión debe alternar dígitos y operadores.\n",
        "    Utiliza un enfoque de búsqueda en profundidad (DFS).\n",
        "\n",
        "    Args:\n",
        "        valor_objetivo (int): El valor entero que se busca como resultado de la expresión.\n",
        "\n",
        "    Returns:\n",
        "        str or None: La primera expresión válida encontrada como una cadena, o None si no se encuentra ninguna.\n",
        "    \"\"\"\n",
        "    VALOR_MINIMO_ESTIMADO=-67\n",
        "    VALOR_MAXIMO_ESTIMADO=77\n",
        "    def esta_dentro_de_rango(valor_objetivo, minimo, maximo):\n",
        "      return minimo <= valor_objetivo <= maximo\n",
        "    if not esta_dentro_de_rango(valor_objetivo, VALOR_MINIMO_ESTIMADO, VALOR_MAXIMO_ESTIMADO):\n",
        "      print(f\"El valor objetivo {valor_objetivo} está fuera del rango estimado [{VALOR_MINIMO_ESTIMADO}, {VALOR_MAXIMO_ESTIMADO}].\")\n",
        "      return None\n",
        "    digitos_base = [str(i) for i in range(1, 10)]\n",
        "    operadores_base = ['+', '-', '*', '/']\n",
        "    total_combinaciones_evaluadas = 0\n",
        "\n",
        "    # Cache para operadores para evitar redefiniciones\n",
        "    operadores_map = {\n",
        "        '+': operator.add,\n",
        "        '-': operator.sub,\n",
        "        '*': operator.mul,\n",
        "        '/': operator.truediv\n",
        "    }\n",
        "\n",
        "    def dfs(digitos_restantes, operadores_restantes, expresion_actual, valor_actual):\n",
        "        nonlocal total_combinaciones_evaluadas\n",
        "        total_combinaciones_evaluadas += 1\n",
        "\n",
        "        # Si ya hemos construido una expresión completa (5 dígitos y 4 operadores)\n",
        "        if len(expresion_actual) == 9:\n",
        "            try:\n",
        "                # Usamos eval() con precaución, ya que la expresión está controlada\n",
        "                resultado = eval(expresion_actual)\n",
        "                # Verificamos que sea un entero y coincida con el valor objetivo\n",
        "                if resultado == int(valor_objetivo):\n",
        "                    print(f\"Primera expresión válida encontrada: {expresion_actual} = {int(resultado)}\")\n",
        "                    print(f\"Total de combinaciones evaluadas: {total_combinaciones_evaluadas}\")\n",
        "                    return expresion_actual\n",
        "            except ZeroDivisionError:\n",
        "                pass  # Ignorar divisiones por cero\n",
        "            except SyntaxError:\n",
        "                pass # Ignorar expresiones mal formadas (aunque el DFS debería prevenirlas)\n",
        "            return None\n",
        "\n",
        "        # Si la última parte de la expresión es un dígito, el siguiente debe ser un operador\n",
        "        if not expresion_actual or expresion_actual[-1].isdigit():\n",
        "            if not operadores_restantes:\n",
        "                return None # No hay operadores disponibles para continuar\n",
        "            for i, op in enumerate(operadores_restantes):\n",
        "                nueva_operadores_restantes = operadores_restantes[:i] + operadores_restantes[i+1:]\n",
        "                resultado = dfs(digitos_restantes, nueva_operadores_restantes, expresion_actual + op, valor_actual)\n",
        "                if resultado:\n",
        "                    return resultado\n",
        "        # Si la última parte de la expresión es un operador, el siguiente debe ser un dígito\n",
        "        else: # expresion_actual[-1] in operadores_base\n",
        "            if not digitos_restantes:\n",
        "                return None # No hay dígitos disponibles para continuar\n",
        "            for i, digito in enumerate(digitos_restantes):\n",
        "                nueva_digitos_restantes = digitos_restantes[:i] + digitos_restantes[i+1:]\n",
        "                resultado = dfs(nueva_digitos_restantes, operadores_restantes, expresion_actual + digito, valor_actual)\n",
        "                if resultado:\n",
        "                    return resultado\n",
        "        return None\n",
        "\n",
        "    # Iterar sobre todas las permutaciones de 5 dígitos y 4 operadores\n",
        "    # Para cada combinación, iniciar una nueva búsqueda DFS\n",
        "    for digitos_perm in permutations(digitos_base, 5):\n",
        "        for operadores_perm in permutations(operadores_base, 4):\n",
        "            # Iniciar el DFS con el primer dígito de la permutación\n",
        "            # Los dígitos y operadores restantes se manejan dentro del DFS\n",
        "\n",
        "            resultado = dfs(list(digitos_perm[1:]), list(operadores_perm), digitos_perm[0], 0)\n",
        "            if resultado:\n",
        "                return resultado\n",
        "\n",
        "    print(\"No se encontró ninguna expresión válida.\")\n",
        "    print(f\"Total de combinaciones evaluadas: {total_combinaciones_evaluadas}\")\n",
        "    return None\n",
        "\n",
        "# Ejemplo de uso\n",
        "print(\"\\n--- Buscando combinación para el valor ---\")\n",
        "primera_valida_1 = buscar_primera_combinacion_valida_dfs(10)\n"
      ],
      "metadata": {
        "colab": {
          "base_uri": "https://localhost:8080/"
        },
        "id": "u6K3aUGljUQV",
        "outputId": "0f89282c-eb89-4f1f-d52f-7bcce59a6d2e"
      },
      "execution_count": 14,
      "outputs": [
        {
          "output_type": "stream",
          "name": "stdout",
          "text": [
            "\n",
            "--- Buscando combinación para el valor ---\n",
            "Primera expresión válida encontrada: 1+3*4-6/2 = 10\n",
            "Total de combinaciones evaluadas: 53708\n"
          ]
        }
      ]
    },
    {
      "cell_type": "code",
      "source": [],
      "metadata": {
        "id": "9lbi8MJ9ruUB"
      },
      "execution_count": null,
      "outputs": []
    },
    {
      "cell_type": "code",
      "source": [
        "import operator\n",
        "from itertools import permutations\n",
        "\n",
        "\n",
        "def evaluar_paso_a_paso(digitos, operadores):\n",
        "    \"\"\"\n",
        "    Evalúa una expresión paso a paso, aplicando cada operación de izquierda a derecha.\n",
        "    Si alguna operación intermedia da como resultado un valor no entero\n",
        "    o produce una división por cero, se descarta la expresión (poda temprana).\n",
        "    \"\"\"\n",
        "    try:\n",
        "        resultado = int(digitos[0])\n",
        "    except ValueError:\n",
        "        return False\n",
        "\n",
        "    for i in range(4):\n",
        "        operando = int(digitos[i + 1])\n",
        "        operador = operadores[i]\n",
        "\n",
        "        try:\n",
        "            if operador == '+':\n",
        "                resultado += operando\n",
        "            elif operador == '-':\n",
        "                resultado -= operando\n",
        "            elif operador == '*':\n",
        "                resultado *= operando\n",
        "            elif operador == '/':\n",
        "                if operando == 0 or resultado % operando != 0:\n",
        "                    return False  # División inválida: por cero o no entera\n",
        "                resultado //= operando\n",
        "        except Exception:\n",
        "            return False\n",
        "\n",
        "    return True  # La expresión completa es válida y termina en entero\n",
        "\n",
        "def buscar_primera_combinacion_valida_dfs(valor_objetivo):\n",
        "    \"\"\"\n",
        "    Busca la primera combinación válida de 5 dígitos (del 1 al 9) y 4 operadores (+, -, *, /)\n",
        "    que resulte en el valor objetivo. La expresión debe alternar dígitos y operadores.\n",
        "    Utiliza un enfoque de búsqueda en profundidad (DFS).\n",
        "\n",
        "    Args:\n",
        "        valor_objetivo (int): El valor entero que se busca como resultado de la expresión.\n",
        "\n",
        "    Returns:\n",
        "        str or None: La primera expresión válida encontrada como una cadena, o None si no se encuentra ninguna.\n",
        "    \"\"\"\n",
        "    VALOR_MINIMO_ESTIMADO=-67\n",
        "    VALOR_MAXIMO_ESTIMADO=77\n",
        "    def esta_dentro_de_rango(valor_objetivo, minimo, maximo):\n",
        "      return minimo <= valor_objetivo <= maximo\n",
        "    if not esta_dentro_de_rango(valor_objetivo, VALOR_MINIMO_ESTIMADO, VALOR_MAXIMO_ESTIMADO):\n",
        "      print(f\"El valor objetivo {valor_objetivo} está fuera del rango estimado [{VALOR_MINIMO_ESTIMADO}, {VALOR_MAXIMO_ESTIMADO}].\")\n",
        "      return None\n",
        "    digitos_base = [str(i) for i in range(1, 10)]\n",
        "    operadores_base = ['+', '-', '*', '/']\n",
        "    total_combinaciones_evaluadas = 0\n",
        "\n",
        "    # Cache para operadores para evitar redefiniciones\n",
        "    operadores_map = {\n",
        "        '+': operator.add,\n",
        "        '-': operator.sub,\n",
        "        '*': operator.mul,\n",
        "        '/': operator.truediv\n",
        "    }\n",
        "\n",
        "    def dfs(digitos_restantes, operadores_restantes, expresion_actual, valor_actual):\n",
        "        nonlocal total_combinaciones_evaluadas\n",
        "        total_combinaciones_evaluadas += 1\n",
        "\n",
        "        # Si ya hemos construido una expresión completa (5 dígitos y 4 operadores)\n",
        "        if len(expresion_actual) == 9:\n",
        "            try:\n",
        "                # Usamos eval() con precaución, ya que la expresión está controlada\n",
        "                resultado = eval(expresion_actual)\n",
        "                # Verificamos que sea un entero y coincida con el valor objetivo\n",
        "                if resultado == int(valor_objetivo):\n",
        "                    print(f\"Primera expresión válida encontrada: {expresion_actual} = {int(resultado)}\")\n",
        "                    print(f\"Total de combinaciones evaluadas: {total_combinaciones_evaluadas}\")\n",
        "                    return expresion_actual\n",
        "            except ZeroDivisionError:\n",
        "                pass  # Ignorar divisiones por cero\n",
        "            except SyntaxError:\n",
        "                pass # Ignorar expresiones mal formadas (aunque el DFS debería prevenirlas)\n",
        "            return None\n",
        "\n",
        "        # Si la última parte de la expresión es un dígito, el siguiente debe ser un operador\n",
        "        if not expresion_actual or expresion_actual[-1].isdigit():\n",
        "            if not operadores_restantes:\n",
        "                return None # No hay operadores disponibles para continuar\n",
        "            for i, op in enumerate(operadores_restantes):\n",
        "                nueva_operadores_restantes = operadores_restantes[:i] + operadores_restantes[i+1:]\n",
        "                resultado = dfs(digitos_restantes, nueva_operadores_restantes, expresion_actual + op, valor_actual)\n",
        "                if resultado:\n",
        "                    return resultado\n",
        "        # Si la última parte de la expresión es un operador, el siguiente debe ser un dígito\n",
        "        else: # expresion_actual[-1] in operadores_base\n",
        "            if not digitos_restantes:\n",
        "                return None # No hay dígitos disponibles para continuar\n",
        "            for i, digito in enumerate(digitos_restantes):\n",
        "                nueva_digitos_restantes = digitos_restantes[:i] + digitos_restantes[i+1:]\n",
        "                resultado = dfs(nueva_digitos_restantes, operadores_restantes, expresion_actual + digito, valor_actual)\n",
        "                if resultado:\n",
        "                    return resultado\n",
        "        return None\n",
        "\n",
        "    # Iterar sobre todas las permutaciones de 5 dígitos y 4 operadores\n",
        "    # Para cada combinación, iniciar una nueva búsqueda DFS\n",
        "    for digitos_perm in permutations(digitos_base, 5):\n",
        "        for operadores_perm in permutations(operadores_base, 4):\n",
        "            # Iniciar el DFS con el primer dígito de la permutación\n",
        "            # Los dígitos y operadores restantes se manejan dentro del DFS\n",
        "            poda_temprana=0\n",
        "            if evaluar_paso_a_paso(digitos_perm, operadores_perm):\n",
        "              resultado = dfs(list(digitos_perm[1:]), list(operadores_perm), digitos_perm[0], 0)\n",
        "\n",
        "\n",
        "            if resultado:\n",
        "                  return resultado\n",
        "\n",
        "    print(\"No se encontró ninguna expresión válida.\")\n",
        "    print(f\"Total de combinaciones evaluadas: {total_combinaciones_evaluadas}\")\n",
        "    return None\n",
        "\n",
        "# Ejemplo de uso\n",
        "print(\"\\n--- Buscando combinación para el valor ---\")\n",
        "primera_valida_1 = buscar_primera_combinacion_valida_dfs(10)\n"
      ],
      "metadata": {
        "id": "psiTMx-aruLX",
        "outputId": "c6ded668-a956-4cd3-8ded-6983486fa232",
        "colab": {
          "base_uri": "https://localhost:8080/"
        }
      },
      "execution_count": 13,
      "outputs": [
        {
          "output_type": "stream",
          "name": "stdout",
          "text": [
            "\n",
            "--- Buscando combinación para el valor ---\n",
            "Primera expresión válida encontrada: 1+3*4-6/2 = 10\n",
            "Total de combinaciones evaluadas: 11357\n"
          ]
        }
      ]
    },
    {
      "cell_type": "markdown",
      "metadata": {
        "id": "eGDB4K6uk1iN"
      },
      "source": [
        "(*)Calcula la complejidad del algoritmo"
      ]
    },
    {
      "cell_type": "markdown",
      "metadata": {
        "id": "NhpTh_BPk1ms"
      },
      "source": [
        "### Complejidad del algoritmo con poda\n",
        "\n",
        "- Complejidad temporal: \\( O(n) \\), siendo \\( n = 362,880 \\) combinaciones posibles.\n",
        "- Aunque la complejidad teórica es igual a la del algoritmo por fuerza bruta, mejora en eficiencia práctica al detenerse tempranamente en operaciones inválidas (poda)."
      ]
    },
    {
      "cell_type": "code",
      "metadata": {
        "id": "nREzhkStlCq8"
      },
      "source": [],
      "execution_count": null,
      "outputs": []
    },
    {
      "cell_type": "markdown",
      "metadata": {
        "id": "3M6QjTsSkmYe"
      },
      "source": [
        "Según el problema (y tenga sentido), diseña un juego de datos de entrada aleatorios"
      ]
    },
    {
      "cell_type": "markdown",
      "metadata": {
        "id": "Jc3_OlyNkvjZ"
      },
      "source": [
        "Respuesta"
      ]
    },
    {
      "cell_type": "code",
      "metadata": {
        "id": "sJ-N2etjkyWc"
      },
      "source": [
        "import itertools\n",
        "\n",
        "# Crear muestras\n",
        "digitos_list = list(itertools.permutations(range(1, 6), 5))[:1000]  # 10 ejemplos de prueba\n",
        "operadores_list = list(itertools.permutations(['+', '-', '*', '/'], 4))\n",
        "#digitos_list\n",
        "#operadores_list"
      ],
      "execution_count": null,
      "outputs": []
    },
    {
      "cell_type": "markdown",
      "metadata": {
        "id": "zy5ZROmjlGo1"
      },
      "source": [
        "Aplica el algoritmo al juego de datos generado"
      ]
    },
    {
      "cell_type": "markdown",
      "metadata": {
        "id": "_Cmj-PVylMsa"
      },
      "source": [
        "Respuesta"
      ]
    },
    {
      "cell_type": "code",
      "metadata": {
        "id": "Jkx8GeiYlUz1"
      },
      "source": [
        "def evaluar_expresion_manual(digitos_list, operadores_list):\n",
        "    \"\"\"\n",
        "    Evalúa múltiples expresiones a partir de listas de dígitos y operadores.\n",
        "    Cada elemento de las listas debe ser una tupla:\n",
        "    - digitos_list: lista de tuplas de 5 enteros\n",
        "    - operadores_list: lista de tuplas de 4 strings\n",
        "    \"\"\"\n",
        "\n",
        "    total = 0\n",
        "    total_validas = 0\n",
        "\n",
        "    for digitos in digitos_list:\n",
        "        for operadores in operadores_list:\n",
        "            resultado = digitos[0]\n",
        "            es_valida = True\n",
        "\n",
        "            for i in range(4):\n",
        "                op = operadores[i]\n",
        "                val = digitos[i + 1]\n",
        "\n",
        "                if op == '+':\n",
        "                    resultado += val\n",
        "                elif op == '-':\n",
        "                    resultado -= val\n",
        "                elif op == '*':\n",
        "                    resultado *= val\n",
        "                elif op == '/':\n",
        "                    if val == 0 or resultado % val != 0:\n",
        "                        es_valida = False\n",
        "                        break\n",
        "                    resultado //= val\n",
        "\n",
        "            total += 1\n",
        "            if es_valida:\n",
        "                total_validas += 1\n",
        "\n",
        "    print(\"Total de expresiones evaluadas:\", total)\n",
        "    print(\"Total de expresiones válidas (enteras):\", total_validas)\n",
        "    return total, total_validas"
      ],
      "execution_count": null,
      "outputs": []
    },
    {
      "cell_type": "code",
      "source": [
        "\n",
        "\n",
        "# Ejecutar\n",
        "evaluar_expresion_manual(digitos_list, operadores_list)"
      ],
      "metadata": {
        "colab": {
          "base_uri": "https://localhost:8080/"
        },
        "id": "K0wdTFqo9DuN",
        "outputId": "4be20194-623f-42ac-e72b-4a6bf32fc217"
      },
      "execution_count": null,
      "outputs": [
        {
          "output_type": "stream",
          "name": "stdout",
          "text": [
            "Total de expresiones evaluadas: 2880\n",
            "Total de expresiones válidas (enteras): 1274\n"
          ]
        },
        {
          "output_type": "execute_result",
          "data": {
            "text/plain": [
              "(2880, 1274)"
            ]
          },
          "metadata": {},
          "execution_count": 22
        }
      ]
    },
    {
      "cell_type": "markdown",
      "metadata": {
        "id": "eTFWUJQrtGcv"
      },
      "source": [
        "Enumera las referencias que has utilizado(si ha sido necesario) para llevar a cabo el trabajo"
      ]
    },
    {
      "cell_type": "markdown",
      "metadata": {
        "id": "YKQ_mRBttWsP"
      },
      "source": [
        "Algoritmo de Fuerza bruta y Poda"
      ]
    },
    {
      "cell_type": "markdown",
      "metadata": {
        "id": "kAkDPUyRtYyH"
      },
      "source": [
        "Describe brevemente las lineas de como crees que es posible avanzar en el estudio del problema. Ten en cuenta incluso posibles variaciones del problema y/o variaciones al alza del tamaño"
      ]
    },
    {
      "cell_type": "markdown",
      "metadata": {
        "id": "IE0uZmo-tZu-"
      },
      "source": [
        "Respuesta"
      ]
    }
  ]
}